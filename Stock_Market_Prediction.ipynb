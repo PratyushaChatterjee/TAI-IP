{
  "nbformat": 4,
  "nbformat_minor": 0,
  "metadata": {
    "colab": {
      "provenance": [],
      "authorship_tag": "ABX9TyNpwFj/y9cLTzF/bq3aE03+",
      "include_colab_link": true
    },
    "kernelspec": {
      "name": "python3",
      "display_name": "Python 3"
    },
    "language_info": {
      "name": "python"
    }
  },
  "cells": [
    {
      "cell_type": "markdown",
      "metadata": {
        "id": "view-in-github",
        "colab_type": "text"
      },
      "source": [
        "<a href=\"https://colab.research.google.com/github/PratyushaChatterjee/TAI-IP/blob/main/Stock_Market_Prediction.ipynb\" target=\"_parent\"><img src=\"https://colab.research.google.com/assets/colab-badge.svg\" alt=\"Open In Colab\"/></a>"
      ]
    },
    {
      "cell_type": "code",
      "execution_count": null,
      "metadata": {
        "colab": {
          "base_uri": "https://localhost:8080/"
        },
        "id": "Aa6KiF6xcVxK",
        "outputId": "f6b5d49f-54c5-493c-936f-734b1f853a65"
      },
      "outputs": [
        {
          "output_type": "stream",
          "name": "stdout",
          "text": [
            "Mounted at /content/drive\n"
          ]
        }
      ],
      "source": [
        "import io\n",
        "from google.colab import drive\n",
        "drive.mount(\"/content/drive\")"
      ]
    },
    {
      "cell_type": "code",
      "source": [
        "import pandas as pd\n",
        "import numpy as np\n",
        "import matplotlib.pyplot as plt"
      ],
      "metadata": {
        "id": "Q46yAj2xcYa6"
      },
      "execution_count": null,
      "outputs": []
    },
    {
      "cell_type": "code",
      "source": [
        "data = pd.read_csv('/content/drive/My Drive//Stock Market Prediction/TCS.csv')\n",
        "data.head()"
      ],
      "metadata": {
        "colab": {
          "base_uri": "https://localhost:8080/",
          "height": 206
        },
        "id": "3K_YSLttcZG-",
        "outputId": "60e431a1-97e3-4866-e8dc-ecfade950b1e"
      },
      "execution_count": null,
      "outputs": [
        {
          "output_type": "execute_result",
          "data": {
            "text/plain": [
              "         Date        Open        High         Low       Close  Adj Close  \\\n",
              "0  2004-08-27  122.800003  122.800003  119.820000  120.332497  88.088272   \n",
              "1  2004-08-30  121.237503  123.750000  120.625000  123.345001  90.293549   \n",
              "2  2004-08-31  123.312500  123.750000  122.000000  123.512497  90.416122   \n",
              "3  2004-09-01  123.750000  124.375000  122.949997  123.487503  90.397820   \n",
              "4  2004-09-02  123.737503  125.574997  123.250000  124.207497  90.924896   \n",
              "\n",
              "       Volume  \n",
              "0  30646000.0  \n",
              "1  24465208.0  \n",
              "2  21194656.0  \n",
              "3  19935544.0  \n",
              "4  21356352.0  "
            ],
            "text/html": [
              "\n",
              "\n",
              "  <div id=\"df-7c34dfcc-2a76-4bb1-86dc-7c2c4567ff1a\">\n",
              "    <div class=\"colab-df-container\">\n",
              "      <div>\n",
              "<style scoped>\n",
              "    .dataframe tbody tr th:only-of-type {\n",
              "        vertical-align: middle;\n",
              "    }\n",
              "\n",
              "    .dataframe tbody tr th {\n",
              "        vertical-align: top;\n",
              "    }\n",
              "\n",
              "    .dataframe thead th {\n",
              "        text-align: right;\n",
              "    }\n",
              "</style>\n",
              "<table border=\"1\" class=\"dataframe\">\n",
              "  <thead>\n",
              "    <tr style=\"text-align: right;\">\n",
              "      <th></th>\n",
              "      <th>Date</th>\n",
              "      <th>Open</th>\n",
              "      <th>High</th>\n",
              "      <th>Low</th>\n",
              "      <th>Close</th>\n",
              "      <th>Adj Close</th>\n",
              "      <th>Volume</th>\n",
              "    </tr>\n",
              "  </thead>\n",
              "  <tbody>\n",
              "    <tr>\n",
              "      <th>0</th>\n",
              "      <td>2004-08-27</td>\n",
              "      <td>122.800003</td>\n",
              "      <td>122.800003</td>\n",
              "      <td>119.820000</td>\n",
              "      <td>120.332497</td>\n",
              "      <td>88.088272</td>\n",
              "      <td>30646000.0</td>\n",
              "    </tr>\n",
              "    <tr>\n",
              "      <th>1</th>\n",
              "      <td>2004-08-30</td>\n",
              "      <td>121.237503</td>\n",
              "      <td>123.750000</td>\n",
              "      <td>120.625000</td>\n",
              "      <td>123.345001</td>\n",
              "      <td>90.293549</td>\n",
              "      <td>24465208.0</td>\n",
              "    </tr>\n",
              "    <tr>\n",
              "      <th>2</th>\n",
              "      <td>2004-08-31</td>\n",
              "      <td>123.312500</td>\n",
              "      <td>123.750000</td>\n",
              "      <td>122.000000</td>\n",
              "      <td>123.512497</td>\n",
              "      <td>90.416122</td>\n",
              "      <td>21194656.0</td>\n",
              "    </tr>\n",
              "    <tr>\n",
              "      <th>3</th>\n",
              "      <td>2004-09-01</td>\n",
              "      <td>123.750000</td>\n",
              "      <td>124.375000</td>\n",
              "      <td>122.949997</td>\n",
              "      <td>123.487503</td>\n",
              "      <td>90.397820</td>\n",
              "      <td>19935544.0</td>\n",
              "    </tr>\n",
              "    <tr>\n",
              "      <th>4</th>\n",
              "      <td>2004-09-02</td>\n",
              "      <td>123.737503</td>\n",
              "      <td>125.574997</td>\n",
              "      <td>123.250000</td>\n",
              "      <td>124.207497</td>\n",
              "      <td>90.924896</td>\n",
              "      <td>21356352.0</td>\n",
              "    </tr>\n",
              "  </tbody>\n",
              "</table>\n",
              "</div>\n",
              "      <button class=\"colab-df-convert\" onclick=\"convertToInteractive('df-7c34dfcc-2a76-4bb1-86dc-7c2c4567ff1a')\"\n",
              "              title=\"Convert this dataframe to an interactive table.\"\n",
              "              style=\"display:none;\">\n",
              "\n",
              "  <svg xmlns=\"http://www.w3.org/2000/svg\" height=\"24px\"viewBox=\"0 0 24 24\"\n",
              "       width=\"24px\">\n",
              "    <path d=\"M0 0h24v24H0V0z\" fill=\"none\"/>\n",
              "    <path d=\"M18.56 5.44l.94 2.06.94-2.06 2.06-.94-2.06-.94-.94-2.06-.94 2.06-2.06.94zm-11 1L8.5 8.5l.94-2.06 2.06-.94-2.06-.94L8.5 2.5l-.94 2.06-2.06.94zm10 10l.94 2.06.94-2.06 2.06-.94-2.06-.94-.94-2.06-.94 2.06-2.06.94z\"/><path d=\"M17.41 7.96l-1.37-1.37c-.4-.4-.92-.59-1.43-.59-.52 0-1.04.2-1.43.59L10.3 9.45l-7.72 7.72c-.78.78-.78 2.05 0 2.83L4 21.41c.39.39.9.59 1.41.59.51 0 1.02-.2 1.41-.59l7.78-7.78 2.81-2.81c.8-.78.8-2.07 0-2.86zM5.41 20L4 18.59l7.72-7.72 1.47 1.35L5.41 20z\"/>\n",
              "  </svg>\n",
              "      </button>\n",
              "\n",
              "\n",
              "\n",
              "    <div id=\"df-ffffca44-e450-4e7a-8108-1c4fc6eddf3f\">\n",
              "      <button class=\"colab-df-quickchart\" onclick=\"quickchart('df-ffffca44-e450-4e7a-8108-1c4fc6eddf3f')\"\n",
              "              title=\"Suggest charts.\"\n",
              "              style=\"display:none;\">\n",
              "\n",
              "<svg xmlns=\"http://www.w3.org/2000/svg\" height=\"24px\"viewBox=\"0 0 24 24\"\n",
              "     width=\"24px\">\n",
              "    <g>\n",
              "        <path d=\"M19 3H5c-1.1 0-2 .9-2 2v14c0 1.1.9 2 2 2h14c1.1 0 2-.9 2-2V5c0-1.1-.9-2-2-2zM9 17H7v-7h2v7zm4 0h-2V7h2v10zm4 0h-2v-4h2v4z\"/>\n",
              "    </g>\n",
              "</svg>\n",
              "      </button>\n",
              "    </div>\n",
              "\n",
              "<style>\n",
              "  .colab-df-quickchart {\n",
              "    background-color: #E8F0FE;\n",
              "    border: none;\n",
              "    border-radius: 50%;\n",
              "    cursor: pointer;\n",
              "    display: none;\n",
              "    fill: #1967D2;\n",
              "    height: 32px;\n",
              "    padding: 0 0 0 0;\n",
              "    width: 32px;\n",
              "  }\n",
              "\n",
              "  .colab-df-quickchart:hover {\n",
              "    background-color: #E2EBFA;\n",
              "    box-shadow: 0px 1px 2px rgba(60, 64, 67, 0.3), 0px 1px 3px 1px rgba(60, 64, 67, 0.15);\n",
              "    fill: #174EA6;\n",
              "  }\n",
              "\n",
              "  [theme=dark] .colab-df-quickchart {\n",
              "    background-color: #3B4455;\n",
              "    fill: #D2E3FC;\n",
              "  }\n",
              "\n",
              "  [theme=dark] .colab-df-quickchart:hover {\n",
              "    background-color: #434B5C;\n",
              "    box-shadow: 0px 1px 3px 1px rgba(0, 0, 0, 0.15);\n",
              "    filter: drop-shadow(0px 1px 2px rgba(0, 0, 0, 0.3));\n",
              "    fill: #FFFFFF;\n",
              "  }\n",
              "</style>\n",
              "\n",
              "    <script>\n",
              "      async function quickchart(key) {\n",
              "        const containerElement = document.querySelector('#' + key);\n",
              "        const charts = await google.colab.kernel.invokeFunction(\n",
              "            'suggestCharts', [key], {});\n",
              "      }\n",
              "    </script>\n",
              "\n",
              "      <script>\n",
              "\n",
              "function displayQuickchartButton(domScope) {\n",
              "  let quickchartButtonEl =\n",
              "    domScope.querySelector('#df-ffffca44-e450-4e7a-8108-1c4fc6eddf3f button.colab-df-quickchart');\n",
              "  quickchartButtonEl.style.display =\n",
              "    google.colab.kernel.accessAllowed ? 'block' : 'none';\n",
              "}\n",
              "\n",
              "        displayQuickchartButton(document);\n",
              "      </script>\n",
              "      <style>\n",
              "    .colab-df-container {\n",
              "      display:flex;\n",
              "      flex-wrap:wrap;\n",
              "      gap: 12px;\n",
              "    }\n",
              "\n",
              "    .colab-df-convert {\n",
              "      background-color: #E8F0FE;\n",
              "      border: none;\n",
              "      border-radius: 50%;\n",
              "      cursor: pointer;\n",
              "      display: none;\n",
              "      fill: #1967D2;\n",
              "      height: 32px;\n",
              "      padding: 0 0 0 0;\n",
              "      width: 32px;\n",
              "    }\n",
              "\n",
              "    .colab-df-convert:hover {\n",
              "      background-color: #E2EBFA;\n",
              "      box-shadow: 0px 1px 2px rgba(60, 64, 67, 0.3), 0px 1px 3px 1px rgba(60, 64, 67, 0.15);\n",
              "      fill: #174EA6;\n",
              "    }\n",
              "\n",
              "    [theme=dark] .colab-df-convert {\n",
              "      background-color: #3B4455;\n",
              "      fill: #D2E3FC;\n",
              "    }\n",
              "\n",
              "    [theme=dark] .colab-df-convert:hover {\n",
              "      background-color: #434B5C;\n",
              "      box-shadow: 0px 1px 3px 1px rgba(0, 0, 0, 0.15);\n",
              "      filter: drop-shadow(0px 1px 2px rgba(0, 0, 0, 0.3));\n",
              "      fill: #FFFFFF;\n",
              "    }\n",
              "  </style>\n",
              "\n",
              "      <script>\n",
              "        const buttonEl =\n",
              "          document.querySelector('#df-7c34dfcc-2a76-4bb1-86dc-7c2c4567ff1a button.colab-df-convert');\n",
              "        buttonEl.style.display =\n",
              "          google.colab.kernel.accessAllowed ? 'block' : 'none';\n",
              "\n",
              "        async function convertToInteractive(key) {\n",
              "          const element = document.querySelector('#df-7c34dfcc-2a76-4bb1-86dc-7c2c4567ff1a');\n",
              "          const dataTable =\n",
              "            await google.colab.kernel.invokeFunction('convertToInteractive',\n",
              "                                                     [key], {});\n",
              "          if (!dataTable) return;\n",
              "\n",
              "          const docLinkHtml = 'Like what you see? Visit the ' +\n",
              "            '<a target=\"_blank\" href=https://colab.research.google.com/notebooks/data_table.ipynb>data table notebook</a>'\n",
              "            + ' to learn more about interactive tables.';\n",
              "          element.innerHTML = '';\n",
              "          dataTable['output_type'] = 'display_data';\n",
              "          await google.colab.output.renderOutput(dataTable, element);\n",
              "          const docLink = document.createElement('div');\n",
              "          docLink.innerHTML = docLinkHtml;\n",
              "          element.appendChild(docLink);\n",
              "        }\n",
              "      </script>\n",
              "    </div>\n",
              "  </div>\n"
            ]
          },
          "metadata": {},
          "execution_count": 3
        }
      ]
    },
    {
      "cell_type": "code",
      "source": [
        "print(data.isnull().sum())\n",
        "\n",
        "# Handle missing values by filling them with the mean of the respective column\n",
        "data.fillna(data.mean(), inplace=True)"
      ],
      "metadata": {
        "colab": {
          "base_uri": "https://localhost:8080/"
        },
        "id": "RQXySg-ufqBJ",
        "outputId": "98561907-3878-49e2-a90f-a57a44e16b3d"
      },
      "execution_count": null,
      "outputs": [
        {
          "output_type": "stream",
          "name": "stdout",
          "text": [
            "Date         0\n",
            "Open         8\n",
            "High         8\n",
            "Low          8\n",
            "Close        8\n",
            "Adj Close    8\n",
            "Volume       8\n",
            "dtype: int64\n"
          ]
        },
        {
          "output_type": "stream",
          "name": "stderr",
          "text": [
            "<ipython-input-29-dce546d2262a>:4: FutureWarning: The default value of numeric_only in DataFrame.mean is deprecated. In a future version, it will default to False. In addition, specifying 'numeric_only=None' is deprecated. Select only valid columns or specify the value of numeric_only to silence this warning.\n",
            "  data.fillna(data.mean(), inplace=True)\n"
          ]
        }
      ]
    },
    {
      "cell_type": "code",
      "source": [
        "data1=data.reset_index()['Close']\n",
        "data1"
      ],
      "metadata": {
        "colab": {
          "base_uri": "https://localhost:8080/"
        },
        "id": "_21L0_DCcbhP",
        "outputId": "72ec4c34-9e6b-4e25-d4a8-fd822e593f02"
      },
      "execution_count": null,
      "outputs": [
        {
          "output_type": "execute_result",
          "data": {
            "text/plain": [
              "0        120.332497\n",
              "1        123.345001\n",
              "2        123.512497\n",
              "3        123.487503\n",
              "4        124.207497\n",
              "           ...     \n",
              "4489    3144.699951\n",
              "4490    3121.850098\n",
              "4491    3157.300049\n",
              "4492    3137.399902\n",
              "4493    3161.699951\n",
              "Name: Close, Length: 4494, dtype: float64"
            ]
          },
          "metadata": {},
          "execution_count": 30
        }
      ]
    },
    {
      "cell_type": "code",
      "source": [
        "\n",
        "plt.plot(data1)"
      ],
      "metadata": {
        "colab": {
          "base_uri": "https://localhost:8080/",
          "height": 447
        },
        "id": "I9KREqSdcpZ-",
        "outputId": "d26aee6f-f4ee-4c7b-e003-a907d022a8a6"
      },
      "execution_count": null,
      "outputs": [
        {
          "output_type": "execute_result",
          "data": {
            "text/plain": [
              "[<matplotlib.lines.Line2D at 0x7b308ebe9480>]"
            ]
          },
          "metadata": {},
          "execution_count": 31
        },
        {
          "output_type": "display_data",
          "data": {
            "text/plain": [
              "<Figure size 640x480 with 1 Axes>"
            ],
            "image/png": "[encoded data removed]"
          },
          "metadata": {}
        }
      ]
    },
    {
      "cell_type": "code",
      "source": [
        "from sklearn.preprocessing import MinMaxScaler\n",
        "scaler=MinMaxScaler(feature_range=(0,1))\n",
        "data1=scaler.fit_transform(np.array(data1).reshape(-1,1))\n"
      ],
      "metadata": {
        "id": "6C4OOEPVcvV8"
      },
      "execution_count": null,
      "outputs": []
    },
    {
      "cell_type": "code",
      "source": [
        "(data1)"
      ],
      "metadata": {
        "colab": {
          "base_uri": "https://localhost:8080/"
        },
        "id": "gLi_1mBDcx5V",
        "outputId": "63e008f3-7a2a-4924-8e52-57f968b88d39"
      },
      "execution_count": null,
      "outputs": [
        {
          "output_type": "execute_result",
          "data": {
            "text/plain": [
              "array([[0.00224754],\n",
              "       [0.00301848],\n",
              "       [0.00306134],\n",
              "       ...,\n",
              "       [0.77944266],\n",
              "       [0.77434998],\n",
              "       [0.78056864]])"
            ]
          },
          "metadata": {},
          "execution_count": 33
        }
      ]
    },
    {
      "cell_type": "code",
      "source": [
        "training_size=int(len(data1)*0.8)\n",
        "test_size=len(data1)-training_size\n"
      ],
      "metadata": {
        "id": "HufhhUxac0JK"
      },
      "execution_count": null,
      "outputs": []
    },
    {
      "cell_type": "code",
      "source": [
        "train_data,test_data=data1[0:training_size],data1[training_size:len(data1):1]"
      ],
      "metadata": {
        "id": "Usz7wEBqc3Ua"
      },
      "execution_count": null,
      "outputs": []
    },
    {
      "cell_type": "code",
      "source": [
        "training_size,test_size"
      ],
      "metadata": {
        "colab": {
          "base_uri": "https://localhost:8080/"
        },
        "id": "UcZqZiWlc5q6",
        "outputId": "78c2333f-b53c-4ff0-a140-a7396efed381"
      },
      "execution_count": null,
      "outputs": [
        {
          "output_type": "execute_result",
          "data": {
            "text/plain": [
              "(3595, 899)"
            ]
          },
          "metadata": {},
          "execution_count": 36
        }
      ]
    },
    {
      "cell_type": "code",
      "source": [
        "train_data"
      ],
      "metadata": {
        "colab": {
          "base_uri": "https://localhost:8080/"
        },
        "id": "cGV6KFQOc8Vl",
        "outputId": "fabb353a-1aab-48b7-8962-1c9b92ed984f"
      },
      "execution_count": null,
      "outputs": [
        {
          "output_type": "execute_result",
          "data": {
            "text/plain": [
              "array([[0.00224754],\n",
              "       [0.00301848],\n",
              "       [0.00306134],\n",
              "       ...,\n",
              "       [0.47904084],\n",
              "       [0.482099  ],\n",
              "       [0.48023084]])"
            ]
          },
          "metadata": {},
          "execution_count": 37
        }
      ]
    },
    {
      "cell_type": "code",
      "source": [
        "import numpy\n",
        "# convert an array of values into a dataset matrix\n",
        "def create_dataset(dataset, time_step=1):\n",
        "\tdataX, dataY = [], []\n",
        "\tfor i in range(len(dataset)-time_step-1):\n",
        "\t\ta = dataset[i:(i+time_step),0]   ###i=0, 0,1,2,3-----99   100\n",
        "\t\tdataX.append(a)\n",
        "\t\tdataY.append(dataset[i + time_step,0])\n",
        "\treturn numpy.array(dataX), numpy.array(dataY)\n"
      ],
      "metadata": {
        "id": "MZQ361KLc_ge"
      },
      "execution_count": null,
      "outputs": []
    },
    {
      "cell_type": "code",
      "source": [
        "time_step=100\n",
        "X_train, y_train = create_dataset(train_data, time_step)\n",
        "X_test, y_test = create_dataset(test_data, time_step)\n"
      ],
      "metadata": {
        "id": "2qxTeO_UdBuu"
      },
      "execution_count": null,
      "outputs": []
    },
    {
      "cell_type": "code",
      "source": [
        "print(X_train.shape), print(y_train.shape)\n"
      ],
      "metadata": {
        "colab": {
          "base_uri": "https://localhost:8080/"
        },
        "id": "iGhCosBgdECq",
        "outputId": "07ca29cd-76a5-42e5-d744-4df8676caad2"
      },
      "execution_count": null,
      "outputs": [
        {
          "output_type": "stream",
          "name": "stdout",
          "text": [
            "(3494, 100)\n",
            "(3494,)\n"
          ]
        },
        {
          "output_type": "execute_result",
          "data": {
            "text/plain": [
              "(None, None)"
            ]
          },
          "metadata": {},
          "execution_count": 40
        }
      ]
    },
    {
      "cell_type": "code",
      "source": [
        "\n",
        "print(X_test.shape),print(y_test.shape)"
      ],
      "metadata": {
        "colab": {
          "base_uri": "https://localhost:8080/"
        },
        "id": "AXT38cCHdGrZ",
        "outputId": "0cb5fa87-9e21-421c-8b89-b9214b175c68"
      },
      "execution_count": null,
      "outputs": [
        {
          "output_type": "stream",
          "name": "stdout",
          "text": [
            "(798, 100)\n",
            "(798,)\n"
          ]
        },
        {
          "output_type": "execute_result",
          "data": {
            "text/plain": [
              "(None, None)"
            ]
          },
          "metadata": {},
          "execution_count": 41
        }
      ]
    },
    {
      "cell_type": "code",
      "source": [
        "X_train =X_train.reshape(X_train.shape[0],X_train.shape[1],1 )\n",
        "X_test = X_test.reshape(X_test.shape[0],X_test.shape[1] ,1)"
      ],
      "metadata": {
        "id": "-c8eW53NdMiZ"
      },
      "execution_count": null,
      "outputs": []
    },
    {
      "cell_type": "code",
      "source": [
        "from tensorflow.keras.models import Sequential\n",
        "from tensorflow.keras.layers import Dense\n",
        "from tensorflow.keras.layers import LSTM"
      ],
      "metadata": {
        "id": "il8YmbcbdRlX"
      },
      "execution_count": null,
      "outputs": []
    },
    {
      "cell_type": "code",
      "source": [
        "model=Sequential()\n",
        "model.add(LSTM(50,return_sequences=True,input_shape=(100,1)))\n",
        "model.add(LSTM(50,return_sequences=True))\n",
        "model.add(LSTM(50))\n",
        "model.add(Dense(1))\n",
        "model.compile(loss='mean_squared_error',optimizer='adam')"
      ],
      "metadata": {
        "id": "tMTdY5SgdUgC"
      },
      "execution_count": null,
      "outputs": []
    },
    {
      "cell_type": "code",
      "source": [
        "model.summary()"
      ],
      "metadata": {
        "colab": {
          "base_uri": "https://localhost:8080/"
        },
        "id": "3NhVftMpdWz4",
        "outputId": "7952557b-90a6-435c-a260-a04ea4ef6776"
      },
      "execution_count": null,
      "outputs": [
        {
          "output_type": "stream",
          "name": "stdout",
          "text": [
            "Model: \"sequential_1\"\n",
            "_________________________________________________________________\n",
            " Layer (type)                Output Shape              Param #   \n",
            "=================================================================\n",
            " lstm_3 (LSTM)               (None, 100, 50)           10400     \n",
            "                                                                 \n",
            " lstm_4 (LSTM)               (None, 100, 50)           20200     \n",
            "                                                                 \n",
            " lstm_5 (LSTM)               (None, 50)                20200     \n",
            "                                                                 \n",
            " dense_1 (Dense)             (None, 1)                 51        \n",
            "                                                                 \n",
            "=================================================================\n",
            "Total params: 50,851\n",
            "Trainable params: 50,851\n",
            "Non-trainable params: 0\n",
            "_________________________________________________________________\n"
          ]
        }
      ]
    },
    {
      "cell_type": "code",
      "source": [
        "model.summary()"
      ],
      "metadata": {
        "colab": {
          "base_uri": "https://localhost:8080/"
        },
        "id": "bsLeGhHUdaFs",
        "outputId": "cbd707cd-a9d8-4799-8a8d-9c18675df15d"
      },
      "execution_count": null,
      "outputs": [
        {
          "output_type": "stream",
          "name": "stdout",
          "text": [
            "Model: \"sequential_1\"\n",
            "_________________________________________________________________\n",
            " Layer (type)                Output Shape              Param #   \n",
            "=================================================================\n",
            " lstm_3 (LSTM)               (None, 100, 50)           10400     \n",
            "                                                                 \n",
            " lstm_4 (LSTM)               (None, 100, 50)           20200     \n",
            "                                                                 \n",
            " lstm_5 (LSTM)               (None, 50)                20200     \n",
            "                                                                 \n",
            " dense_1 (Dense)             (None, 1)                 51        \n",
            "                                                                 \n",
            "=================================================================\n",
            "Total params: 50,851\n",
            "Trainable params: 50,851\n",
            "Non-trainable params: 0\n",
            "_________________________________________________________________\n"
          ]
        }
      ]
    },
    {
      "cell_type": "code",
      "source": [
        "model.fit(X_train,y_train,validation_data=(X_test,y_test),epochs=50,batch_size=64,verbose=1)"
      ],
      "metadata": {
        "colab": {
          "base_uri": "https://localhost:8080/"
        },
        "id": "XO6I7eJBddLz",
        "outputId": "d72ce602-ef69-4990-dbb5-964ff6f7a574"
      },
      "execution_count": null,
      "outputs": [
        {
          "output_type": "stream",
          "name": "stdout",
          "text": [
            "Epoch 1/50\n",
            "55/55 [==============================] - 14s 252ms/step - loss: 1.9546e-04 - val_loss: 0.0011\n",
            "Epoch 2/50\n",
            "55/55 [==============================] - 14s 265ms/step - loss: 1.4111e-04 - val_loss: 0.0019\n",
            "Epoch 3/50\n",
            "55/55 [==============================] - 15s 271ms/step - loss: 1.3394e-04 - val_loss: 0.0024\n",
            "Epoch 4/50\n",
            "55/55 [==============================] - 12s 224ms/step - loss: 1.2894e-04 - val_loss: 0.0015\n",
            "Epoch 5/50\n",
            "55/55 [==============================] - 12s 225ms/step - loss: 1.2913e-04 - val_loss: 0.0014\n",
            "Epoch 6/50\n",
            "55/55 [==============================] - 13s 227ms/step - loss: 1.3576e-04 - val_loss: 0.0033\n",
            "Epoch 7/50\n",
            "55/55 [==============================] - 13s 239ms/step - loss: 1.2936e-04 - val_loss: 0.0013\n",
            "Epoch 8/50\n",
            "55/55 [==============================] - 13s 242ms/step - loss: 1.3416e-04 - val_loss: 9.6953e-04\n",
            "Epoch 9/50\n",
            "55/55 [==============================] - 13s 240ms/step - loss: 1.2798e-04 - val_loss: 0.0014\n",
            "Epoch 10/50\n",
            "55/55 [==============================] - 14s 248ms/step - loss: 1.3503e-04 - val_loss: 0.0015\n",
            "Epoch 11/50\n",
            "55/55 [==============================] - 13s 239ms/step - loss: 1.1757e-04 - val_loss: 0.0017\n",
            "Epoch 12/50\n",
            "55/55 [==============================] - 14s 258ms/step - loss: 1.1908e-04 - val_loss: 0.0012\n",
            "Epoch 13/50\n",
            "55/55 [==============================] - 14s 259ms/step - loss: 1.1713e-04 - val_loss: 0.0015\n",
            "Epoch 14/50\n",
            "55/55 [==============================] - 15s 267ms/step - loss: 1.1494e-04 - val_loss: 0.0024\n",
            "Epoch 15/50\n",
            "55/55 [==============================] - 13s 231ms/step - loss: 1.2175e-04 - val_loss: 0.0017\n",
            "Epoch 16/50\n",
            "55/55 [==============================] - 12s 216ms/step - loss: 1.1469e-04 - val_loss: 0.0011\n",
            "Epoch 17/50\n",
            "55/55 [==============================] - 13s 227ms/step - loss: 1.1889e-04 - val_loss: 8.0056e-04\n",
            "Epoch 18/50\n",
            "55/55 [==============================] - 13s 239ms/step - loss: 1.1711e-04 - val_loss: 0.0013\n",
            "Epoch 19/50\n",
            "55/55 [==============================] - 13s 240ms/step - loss: 1.0598e-04 - val_loss: 0.0012\n",
            "Epoch 20/50\n",
            "55/55 [==============================] - 13s 237ms/step - loss: 1.0811e-04 - val_loss: 5.5728e-04\n",
            "Epoch 21/50\n",
            "55/55 [==============================] - 13s 241ms/step - loss: 1.0353e-04 - val_loss: 5.8233e-04\n",
            "Epoch 22/50\n",
            "55/55 [==============================] - 13s 239ms/step - loss: 9.5809e-05 - val_loss: 8.3553e-04\n",
            "Epoch 23/50\n",
            "55/55 [==============================] - 13s 240ms/step - loss: 8.9869e-05 - val_loss: 6.3149e-04\n",
            "Epoch 24/50\n",
            "55/55 [==============================] - 12s 219ms/step - loss: 8.9656e-05 - val_loss: 9.0211e-04\n",
            "Epoch 25/50\n",
            "55/55 [==============================] - 12s 220ms/step - loss: 8.9573e-05 - val_loss: 0.0014\n",
            "Epoch 26/50\n",
            "55/55 [==============================] - 13s 240ms/step - loss: 9.4781e-05 - val_loss: 4.2590e-04\n",
            "Epoch 27/50\n",
            "55/55 [==============================] - 13s 239ms/step - loss: 8.6583e-05 - val_loss: 4.9286e-04\n",
            "Epoch 28/50\n",
            "55/55 [==============================] - 13s 240ms/step - loss: 8.5518e-05 - val_loss: 6.6281e-04\n",
            "Epoch 29/50\n",
            "55/55 [==============================] - 13s 240ms/step - loss: 8.5848e-05 - val_loss: 4.1619e-04\n",
            "Epoch 30/50\n",
            "55/55 [==============================] - 13s 238ms/step - loss: 8.1826e-05 - val_loss: 9.4763e-04\n",
            "Epoch 31/50\n",
            "55/55 [==============================] - 13s 239ms/step - loss: 8.8785e-05 - val_loss: 4.2523e-04\n",
            "Epoch 32/50\n",
            "55/55 [==============================] - 14s 250ms/step - loss: 8.7131e-05 - val_loss: 5.5655e-04\n",
            "Epoch 33/50\n",
            "55/55 [==============================] - 12s 223ms/step - loss: 8.4689e-05 - val_loss: 5.5239e-04\n",
            "Epoch 34/50\n",
            "55/55 [==============================] - 12s 217ms/step - loss: 7.9533e-05 - val_loss: 5.6331e-04\n",
            "Epoch 35/50\n",
            "55/55 [==============================] - 13s 235ms/step - loss: 8.1305e-05 - val_loss: 2.9627e-04\n",
            "Epoch 36/50\n",
            "55/55 [==============================] - 13s 242ms/step - loss: 7.9483e-05 - val_loss: 3.0974e-04\n",
            "Epoch 37/50\n",
            "55/55 [==============================] - 13s 239ms/step - loss: 7.3881e-05 - val_loss: 4.3033e-04\n",
            "Epoch 38/50\n",
            "55/55 [==============================] - 13s 239ms/step - loss: 7.9864e-05 - val_loss: 3.6048e-04\n",
            "Epoch 39/50\n",
            "55/55 [==============================] - 13s 238ms/step - loss: 7.9718e-05 - val_loss: 4.2520e-04\n",
            "Epoch 40/50\n",
            "55/55 [==============================] - 13s 241ms/step - loss: 8.2410e-05 - val_loss: 4.2487e-04\n",
            "Epoch 41/50\n",
            "55/55 [==============================] - 13s 233ms/step - loss: 7.5543e-05 - val_loss: 2.6119e-04\n",
            "Epoch 42/50\n",
            "55/55 [==============================] - 12s 215ms/step - loss: 7.4696e-05 - val_loss: 2.5794e-04\n",
            "Epoch 43/50\n",
            "55/55 [==============================] - 13s 227ms/step - loss: 7.1004e-05 - val_loss: 2.5839e-04\n",
            "Epoch 44/50\n",
            "55/55 [==============================] - 13s 240ms/step - loss: 8.1629e-05 - val_loss: 4.3068e-04\n",
            "Epoch 45/50\n",
            "55/55 [==============================] - 13s 240ms/step - loss: 7.3662e-05 - val_loss: 3.2058e-04\n",
            "Epoch 46/50\n",
            "55/55 [==============================] - 13s 239ms/step - loss: 7.7521e-05 - val_loss: 3.2120e-04\n",
            "Epoch 47/50\n",
            "55/55 [==============================] - 13s 238ms/step - loss: 6.8431e-05 - val_loss: 3.0710e-04\n",
            "Epoch 48/50\n",
            "55/55 [==============================] - 13s 239ms/step - loss: 6.8295e-05 - val_loss: 2.2722e-04\n",
            "Epoch 49/50\n",
            "55/55 [==============================] - 13s 242ms/step - loss: 6.8934e-05 - val_loss: 2.0754e-04\n",
            "Epoch 50/50\n",
            "55/55 [==============================] - 12s 223ms/step - loss: 7.3916e-05 - val_loss: 2.0220e-04\n"
          ]
        },
        {
          "output_type": "execute_result",
          "data": {
            "text/plain": [
              "<keras.callbacks.History at 0x7b3092a194e0>"
            ]
          },
          "metadata": {},
          "execution_count": 49
        }
      ]
    },
    {
      "cell_type": "code",
      "source": [
        "import tensorflow as tf"
      ],
      "metadata": {
        "id": "4o6L_zegjA83"
      },
      "execution_count": null,
      "outputs": []
    },
    {
      "cell_type": "code",
      "source": [
        "train_predict=model.predict(X_train)\n",
        "test_predict=model.predict(X_test)"
      ],
      "metadata": {
        "colab": {
          "base_uri": "https://localhost:8080/"
        },
        "id": "rDuNDMUGjDTW",
        "outputId": "0998f1c2-cb42-49e8-de76-57961630f689"
      },
      "execution_count": null,
      "outputs": [
        {
          "output_type": "stream",
          "name": "stdout",
          "text": [
            "110/110 [==============================] - 6s 43ms/step\n",
            "25/25 [==============================] - 2s 64ms/step\n"
          ]
        }
      ]
    },
    {
      "cell_type": "code",
      "source": [
        "import math\n",
        "from sklearn.metrics import mean_squared_error\n",
        "math.sqrt(mean_squared_error(y_train,train_predict))"
      ],
      "metadata": {
        "colab": {
          "base_uri": "https://localhost:8080/"
        },
        "id": "GAfRkINLjIZx",
        "outputId": "4bba41d1-b683-429e-960a-cf9c43070fe5"
      },
      "execution_count": null,
      "outputs": [
        {
          "output_type": "execute_result",
          "data": {
            "text/plain": [
              "0.007977864247417149"
            ]
          },
          "metadata": {},
          "execution_count": 52
        }
      ]
    },
    {
      "cell_type": "code",
      "source": [
        "math.sqrt(mean_squared_error(y_test,test_predict))"
      ],
      "metadata": {
        "colab": {
          "base_uri": "https://localhost:8080/"
        },
        "id": "QSZryQEljNWV",
        "outputId": "cef9cf12-1f3b-4dfc-d245-fc2c25c69825"
      },
      "execution_count": null,
      "outputs": [
        {
          "output_type": "execute_result",
          "data": {
            "text/plain": [
              "0.01421981733407981"
            ]
          },
          "metadata": {},
          "execution_count": 54
        }
      ]
    },
    {
      "cell_type": "code",
      "source": [
        "look_back=100\n",
        "trainPredictPlot = numpy.empty_like(data1)\n",
        "trainPredictPlot[:, :] = np.nan\n",
        "trainPredictPlot[look_back:len(train_predict)+look_back, :] = train_predict\n",
        "# shift test predictions for plotting\n",
        "testPredictPlot = numpy.empty_like(data1)\n",
        "testPredictPlot[:, :] = numpy.nan\n",
        "testPredictPlot[len(train_predict)+(look_back*2)+1:len(data1)-1, :] = test_predict\n",
        "# plot baseline and predictions\n",
        "plt.plot(scaler.inverse_transform(data1))\n",
        "plt.plot(trainPredictPlot)\n",
        "plt.plot(testPredictPlot)\n",
        "plt.show()"
      ],
      "metadata": {
        "colab": {
          "base_uri": "https://localhost:8080/",
          "height": 430
        },
        "id": "MjUbe0IWjS3B",
        "outputId": "14e8c2c4-d7cf-4f86-a4e5-172e6ffdf109"
      },
      "execution_count": null,
      "outputs": [
        {
          "output_type": "display_data",
          "data": {
            "text/plain": [
              "<Figure size 640x480 with 1 Axes>"
            ],
            "image/png": "[encoded data removed]"
          },
          "metadata": {}
        }
      ]
    },
    {
      "cell_type": "code",
      "source": [
        "len(test_data)"
      ],
      "metadata": {
        "colab": {
          "base_uri": "https://localhost:8080/"
        },
        "id": "_aK61hbojerc",
        "outputId": "e5066172-afed-4a4b-9cce-013e09bbf62f"
      },
      "execution_count": null,
      "outputs": [
        {
          "output_type": "execute_result",
          "data": {
            "text/plain": [
              "899"
            ]
          },
          "metadata": {},
          "execution_count": 57
        }
      ]
    },
    {
      "cell_type": "code",
      "source": [
        "x_input=test_data[341:].reshape(1,-1)\n",
        "x_input.shape"
      ],
      "metadata": {
        "colab": {
          "base_uri": "https://localhost:8080/"
        },
        "id": "aLUrCqYFjhWd",
        "outputId": "4e3cbea0-6d41-4b83-e4e9-b6cda85a0314"
      },
      "execution_count": null,
      "outputs": [
        {
          "output_type": "execute_result",
          "data": {
            "text/plain": [
              "(1, 558)"
            ]
          },
          "metadata": {},
          "execution_count": 58
        }
      ]
    },
    {
      "cell_type": "code",
      "source": [
        "temp_input=list(x_input)\n",
        "temp_input=temp_input[0].tolist()"
      ],
      "metadata": {
        "id": "9nN1QyMyjk2o"
      },
      "execution_count": null,
      "outputs": []
    },
    {
      "cell_type": "code",
      "source": [
        "temp_input"
      ],
      "metadata": {
        "colab": {
          "base_uri": "https://localhost:8080/"
        },
        "id": "9SxfJX_ZjxJh",
        "outputId": "35e07418-c572-455b-bbb9-1c58208722be"
      },
      "execution_count": null,
      "outputs": [
        {
          "output_type": "execute_result",
          "data": {
            "text/plain": [
              "[0.5539205911418721,\n",
              " 0.5548034734965581,\n",
              " 0.5552896803880278,\n",
              " 0.5483160902804599,\n",
              " 0.5471772963621934,\n",
              " 0.5496852422249486,\n",
              " 0.5621225692942929,\n",
              " 0.5588596968586419,\n",
              " 0.5556479941960404,\n",
              " 0.5549058130426572,\n",
              " 0.5491350574425838,\n",
              " 0.5483928762892006,\n",
              " 0.5452451515174942,\n",
              " 0.5481241566077746,\n",
              " 0.5523083357516485,\n",
              " 0.5489431237698985,\n",
              " 0.5479834554064716,\n",
              " 0.5468958312612546,\n",
              " 0.5467678754794645,\n",
              " 0.5453731072992845,\n",
              " 0.5481497728434658,\n",
              " 0.5468445987898721,\n",
              " 0.5443239075076043,\n",
              " 0.5491094412068925,\n",
              " 0.5463200302431986,\n",
              " 0.5511311174798451,\n",
              " 0.5599217047681677,\n",
              " 0.5571834635775232,\n",
              " 0.5669720808844764,\n",
              " 0.5723845853748702,\n",
              " 0.5671255902036249,\n",
              " 0.5680212806761565,\n",
              " 0.5790127324906044,\n",
              " 0.6090311087399278,\n",
              " 0.6090311087399278,\n",
              " 0.6119997079567946,\n",
              " 0.6012386141685689,\n",
              " 0.5984107788513381,\n",
              " 0.6023518545494772,\n",
              " 0.6171051311105584,\n",
              " 0.602902039331842,\n",
              " 0.5683028084754282,\n",
              " 0.5913476573155168,\n",
              " 0.5923713035698387,\n",
              " 0.6082633740491864,\n",
              " 0.60926146676615,\n",
              " 0.6172330868923487,\n",
              " 0.6638985855905817,\n",
              " 0.6660738338810157,\n",
              " 0.6716142941531998,\n",
              " 0.6945823569845475,\n",
              " 0.6913194845488965,\n",
              " 0.6956827892476102,\n",
              " 0.6947999068929241,\n",
              " 0.6904622184299016,\n",
              " 0.6728043205428489,\n",
              " 0.6786135004964591,\n",
              " 0.6653700770811695,\n",
              " 0.6723948369617869,\n",
              " 0.6561188364387354,\n",
              " 0.6550312122935184,\n",
              " 0.6590362658825526,\n",
              " 0.6593945169922321,\n",
              " 0.6445388381867189,\n",
              " 0.6425043537959206,\n",
              " 0.64517861709567,\n",
              " 0.6534190196016277,\n",
              " 0.6380003478959041,\n",
              " 0.6454217832397379,\n",
              " 0.6504248041490698,\n",
              " 0.6587547380832809,\n",
              " 0.6643208145911562,\n",
              " 0.6692215586527221,\n",
              " 0.6495163682570255,\n",
              " 0.6592921774461331,\n",
              " 0.6550056587561601,\n",
              " 0.651371727092984,\n",
              " 0.6548265332013204,\n",
              " 0.6537261009382578,\n",
              " 0.6436431477141872,\n",
              " 0.646266241240887,\n",
              " 0.6522418013298243,\n",
              " 0.6686201413989749,\n",
              " 0.6680571484987644,\n",
              " 0.6627469835544695,\n",
              " 0.6676860892712393,\n",
              " 0.6572064605839524,\n",
              " 0.6692727284257717,\n",
              " 0.6750947164972275,\n",
              " 0.6648326377183172,\n",
              " 0.669464662098457,\n",
              " 0.6720621393894657,\n",
              " 0.6873144936581952,\n",
              " 0.6907692997665317,\n",
              " 0.6839876433316491,\n",
              " 0.6838085177768093,\n",
              " 0.6874168332042943,\n",
              " 0.6781656552601932,\n",
              " 0.691639374003372,\n",
              " 0.6977812515293035,\n",
              " 0.703616047718605,\n",
              " 0.6931620352670093,\n",
              " 0.7065590306997804,\n",
              " 0.7158358248795726,\n",
              " 0.7159893968970542,\n",
              " 0.7211203735881763,\n",
              " 0.721401901387448,\n",
              " 0.7159765887792086,\n",
              " 0.7040638929548708,\n",
              " 0.720826100369392,\n",
              " 0.7492834536998743,\n",
              " 0.7629875304692754,\n",
              " 0.7523672005806856,\n",
              " 0.7475816668813973,\n",
              " 0.7701274380138374,\n",
              " 0.7843433379103995,\n",
              " 0.7839339170276706,\n",
              " 0.7798648855477411,\n",
              " 0.8033447715062498,\n",
              " 0.7989047434971284,\n",
              " 0.7959361442802616,\n",
              " 0.8059038871420546,\n",
              " 0.8182132584296087,\n",
              " 0.8092691618221376,\n",
              " 0.8167545750568665,\n",
              " 0.8137348060669504,\n",
              " 0.8059934812686409,\n",
              " 0.7894871854177002,\n",
              " 0.7676835327403103,\n",
              " 0.7748490565205636,\n",
              " 0.7912529501270723,\n",
              " 0.7903828758902319,\n",
              " 0.7874142766733652,\n",
              " 0.7796089739841606,\n",
              " 0.7939784458982042,\n",
              " 0.784458485574344,\n",
              " 0.7937737041076732,\n",
              " 0.7919055371538691,\n",
              " 0.7880156939271125,\n",
              " 0.7749770123023538,\n",
              " 0.7670309457135135,\n",
              " 0.7578949154333571,\n",
              " 0.7538643083069646,\n",
              " 0.7575750259788815,\n",
              " 0.7285546170498557,\n",
              " 0.734120693557731,\n",
              " 0.7259059699857976,\n",
              " 0.7379849832471295,\n",
              " 0.7121379153255014,\n",
              " 0.7197896459972244,\n",
              " 0.7408128185643603,\n",
              " 0.7543121535432304,\n",
              " 0.7519065472265741,\n",
              " 0.7412478556827805,\n",
              " 0.7409663278835088,\n",
              " 0.7522264366810497,\n",
              " 0.7573446679526593,\n",
              " 0.7540178176261131,\n",
              " 0.7561162799078064,\n",
              " 0.7673508351679891,\n",
              " 0.7680929536230393,\n",
              " 0.7485285271269785,\n",
              " 0.7520345030083644,\n",
              " 0.7723666641951666,\n",
              " 0.7756807691022002,\n",
              " 0.7701786704852199,\n",
              " 0.7557836450338181,\n",
              " 0.7562826600431335,\n",
              " 0.7797625460016422,\n",
              " 0.784701651718412,\n",
              " 0.7814131630470696,\n",
              " 0.8003250025163337,\n",
              " 0.8069275333963765,\n",
              " 0.8086421283326991,\n",
              " 0.8204013148378884,\n",
              " 0.8216552564200995,\n",
              " 0.802282763596724,\n",
              " 0.7658153657865062,\n",
              " 0.7952195793625697,\n",
              " 0.7891288716096878,\n",
              " 0.7805942585832787,\n",
              " 0.7761797841115154,\n",
              " 0.7695900613493183,\n",
              " 0.7672100712683532,\n",
              " 0.7649836532048697,\n",
              " 0.7729680814489139,\n",
              " 0.7709464051759614,\n",
              " 0.768681562758941,\n",
              " 0.7483109772186018,\n",
              " 0.7486564829087687,\n",
              " 0.7519193553444198,\n",
              " 0.7636784791512761,\n",
              " 0.7677090862776685,\n",
              " 0.7731983767768031,\n",
              " 0.7764228875572503,\n",
              " 0.7705625378305907,\n",
              " 0.761605633105274,\n",
              " 0.7523672005806856,\n",
              " 0.7570375866160293,\n",
              " 0.761912714441904,\n",
              " 0.7601725032698902,\n",
              " 0.7545424488711197,\n",
              " 0.7597886359245194,\n",
              " 0.7600445474880999,\n",
              " 0.7683616733044654,\n",
              " 0.7797497378837965,\n",
              " 0.7852518365007768,\n",
              " 0.7759366806657807,\n",
              " 0.7799160553207907,\n",
              " 0.7783422242841039,\n",
              " 0.7723154944221171,\n",
              " 0.7753352634120333,\n",
              " 0.7759750423209845,\n",
              " 0.7860707409645676,\n",
              " 0.7904084294275902,\n",
              " 0.7904340456632815,\n",
              " 0.7946693945802049,\n",
              " 0.809256353704292,\n",
              " 0.8099089407310889,\n",
              " 0.8064285183870612,\n",
              " 0.8093971176039279,\n",
              " 0.8205036543839873,\n",
              " 0.8152702754484332,\n",
              " 0.8090772281494523,\n",
              " 0.8162683054670639,\n",
              " 0.8060830126968943,\n",
              " 0.8347963402892902,\n",
              " 0.836638891007403,\n",
              " 0.8253659740920164,\n",
              " 0.8264152365820295,\n",
              " 0.8276691781642407,\n",
              " 0.8265815540190237,\n",
              " 0.8224741608838904,\n",
              " 0.8213353669656239,\n",
              " 0.8063133707231166,\n",
              " 0.8095506269230763,\n",
              " 0.8053408942418442,\n",
              " 0.7924557219362339,\n",
              " 0.7886043030630142,\n",
              " 0.787183981345476,\n",
              " 0.7940935935621488,\n",
              " 0.791124994345282,\n",
              " 0.7890393401814344,\n",
              " 0.7864290547725802,\n",
              " 0.7918543673808196,\n",
              " 0.7945542469162603,\n",
              " 0.7936585564437286,\n",
              " 0.7897430969812808,\n",
              " 0.7860067630736726,\n",
              " 0.7898070748721758,\n",
              " 0.7892952517450149,\n",
              " 0.7820401338381752,\n",
              " 0.7953347270265143,\n",
              " 0.8120969344410355,\n",
              " 0.8092947153594959,\n",
              " 0.8118538309953006,\n",
              " 0.8184691699931892,\n",
              " 0.8217704040840441,\n",
              " 0.8246366010564788,\n",
              " 0.8272725027010244,\n",
              " 0.8292046475457235,\n",
              " 0.8577771485401504,\n",
              " 0.8602211165120106,\n",
              " 0.88071965783414,\n",
              " 0.8826389945609935,\n",
              " 0.8823702748795674,\n",
              " 0.9023057606031533,\n",
              " 0.8961127133041723,\n",
              " 0.9078334754558247,\n",
              " 0.9111219641271671,\n",
              " 0.9234824424894377,\n",
              " 0.9186585471349454,\n",
              " 0.9404493916944898,\n",
              " 0.9221517148984858,\n",
              " 0.9533217558822543,\n",
              " 0.9546780997088975,\n",
              " 0.9572244072268566,\n",
              " 0.9479859747022682,\n",
              " 0.9373016669227834,\n",
              " 0.9417161413945465,\n",
              " 0.9555226204083797,\n",
              " 0.9658997841529016,\n",
              " 0.983468150611701,\n",
              " 0.9703526829782017,\n",
              " 0.9510441680457213,\n",
              " 0.949930927664813,\n",
              " 0.9600266263083962,\n",
              " 0.9598218845178652,\n",
              " 0.9616388816986198,\n",
              " 0.9621635129436265,\n",
              " 0.9533729256553038,\n",
              " 0.9385812247406857,\n",
              " 0.9418440971763368,\n",
              " 0.9376599807307958,\n",
              " 0.926054366243088,\n",
              " 0.9370841797127397,\n",
              " 0.9524388735275683,\n",
              " 0.9467064168843659,\n",
              " 0.9676911650979648,\n",
              " 0.9786313844410303,\n",
              " 0.9146407481263986,\n",
              " 0.906259644419138,\n",
              " 0.9068609989745523,\n",
              " 0.8956648680679066,\n",
              " 0.9048008983480629,\n",
              " 0.9014740480215168,\n",
              " 0.8949995356215971,\n",
              " 0.8754606626628946,\n",
              " 0.8668492636277447,\n",
              " 0.8653393477836201,\n",
              " 0.862690700719562,\n",
              " 0.8645204433198292,\n",
              " 0.8470928407606656,\n",
              " 0.8409765794704254,\n",
              " 0.8611039988666966,\n",
              " 0.863100121602291,\n",
              " 0.8651602222287804,\n",
              " 0.869357146792167,\n",
              " 0.8678472936463754,\n",
              " 0.8686022202192711,\n",
              " 0.8631257378379822,\n",
              " 0.8641237678566128,\n",
              " 0.8738100456174671,\n",
              " 0.880783635725035,\n",
              " 0.8815769239531347,\n",
              " 0.8727479750096083,\n",
              " 0.860924873311857,\n",
              " 0.8564975907222481,\n",
              " 0.857994698448527,\n",
              " 0.8526333637311827,\n",
              " 0.8532986961774921,\n",
              " 0.8535418623215599,\n",
              " 0.86765535997369,\n",
              " 0.8746033338455668,\n",
              " 0.8870534690327567,\n",
              " 0.9037132742028459,\n",
              " 0.9030863034117403,\n",
              " 0.8764586926815252,\n",
              " 0.8887680639690793,\n",
              " 0.8996186891855583,\n",
              " 0.8931825384408425,\n",
              " 0.9021522512840048,\n",
              " 0.8952042147137951,\n",
              " 0.8988254009574586,\n",
              " 0.8851469404237488,\n",
              " 0.8880259455140291,\n",
              " 0.8887297023138754,\n",
              " 0.881704879734925,\n",
              " 0.8948587717219613,\n",
              " 0.9006039737846763,\n",
              " 0.9087803357014059,\n",
              " 0.9108787979830992,\n",
              " 0.9173278195439936,\n",
              " 0.920002082843743,\n",
              " 0.9169695057359811,\n",
              " 0.9269628648334653,\n",
              " 0.9281400831052687,\n",
              " 0.9484594361742253,\n",
              " 0.9656055109341172,\n",
              " 0.9595148031812353,\n",
              " 0.9458235345296798,\n",
              " 0.9576082745722273,\n",
              " 0.964351569351906,\n",
              " 0.9735771310603157,\n",
              " 0.9592460834998092,\n",
              " 0.9689707229158673,\n",
              " 0.9869485102573957,\n",
              " 0.9999999999999999,\n",
              " 0.9926937750184438,\n",
              " 0.9732572416058402,\n",
              " 0.9507114704734001,\n",
              " 0.9524900433006178,\n",
              " 0.9365851647034245,\n",
              " 0.9362140427775664,\n",
              " 0.9053383377109151,\n",
              " 0.9157795420446652,\n",
              " 0.9276026437424165,\n",
              " 0.944083323357666,\n",
              " 0.958299223254228,\n",
              " 0.9502124554640847,\n",
              " 0.9477300631386878,\n",
              " 0.9385428630854818,\n",
              " 0.9294451944605293,\n",
              " 0.9338213072770887,\n",
              " 0.9363292531398439,\n",
              " 0.9170334836268763,\n",
              " 0.9269628648334653,\n",
              " 0.9484722442920709,\n",
              " 0.9472694724829093,\n",
              " 0.9398735906764337,\n",
              " 0.9423559203034978,\n",
              " 0.9232905088167523,\n",
              " 0.889254270860549,\n",
              " 0.8834707071426301,\n",
              " 0.8419746094890561,\n",
              " 0.8724537017908239,\n",
              " 0.8810139310529242,\n",
              " 0.8789538304264348,\n",
              " 0.878505985190169,\n",
              " 0.8733750084990469,\n",
              " 0.8632792471571307,\n",
              " 0.892721885086731,\n",
              " 0.9010774352566334,\n",
              " 0.898096027921921,\n",
              " 0.8925171432962,\n",
              " 0.9037388904385372,\n",
              " 0.8911736075874026,\n",
              " 0.9070401245293921,\n",
              " 0.9113522594550563,\n",
              " 0.8995675194125088,\n",
              " 0.9185689530083592,\n",
              " 0.921499127871689,\n",
              " 0.9310830660864442,\n",
              " 0.9202323781716322,\n",
              " 0.9202963560625274,\n",
              " 0.919695001507113,\n",
              " 0.9263998719332549,\n",
              " 0.9285495039879976,\n",
              " 0.9333606539229772,\n",
              " 0.9363292531398439,\n",
              " 0.9477045096013295,\n",
              " 0.9324905796861368,\n",
              " 0.9142696262005405,\n",
              " 0.9146534935459112,\n",
              " 0.9174045428544013,\n",
              " 0.9160482617260912,\n",
              " 0.9085884020287206,\n",
              " 0.874321868744628,\n",
              " 0.8599523968305846,\n",
              " 0.8816793261975667,\n",
              " 0.9000665344218242,\n",
              " 0.8959463958671783,\n",
              " 0.8794784616714414,\n",
              " 0.8789922547799717,\n",
              " 0.8828053119979876,\n",
              " 0.8887168941960298,\n",
              " 0.8790945943260707,\n",
              " 0.8779941620630081,\n",
              " 0.8619613276840244,\n",
              " 0.8705727267191743,\n",
              " 0.8498951225405382,\n",
              " 0.8530940170852942,\n",
              " 0.851468953577225,\n",
              " 0.8446233192514472,\n",
              " 0.8437659904341194,\n",
              " 0.8453654377064974,\n",
              " 0.835615244753081,\n",
              " 0.8547574422485672,\n",
              " 0.8540408773308753,\n",
              " 0.8062237765965302,\n",
              " 0.8141698431853706,\n",
              " 0.8215273006383093,\n",
              " 0.8128902853674682,\n",
              " 0.7820913036112247,\n",
              " 0.7972668718712135,\n",
              " 0.8060574591595361,\n",
              " 0.8352185692898647,\n",
              " 0.8324291583261707,\n",
              " 0.8300875299004096,\n",
              " 0.8474383464508324,\n",
              " 0.8518272046869044,\n",
              " 0.8494728308416306,\n",
              " 0.8320068666272631,\n",
              " 0.8426143883980073,\n",
              " 0.8484876089408456,\n",
              " 0.8312903017095712,\n",
              " 0.7953859594978968,\n",
              " 0.7930699473078269,\n",
              " 0.7919823231626099,\n",
              " 0.7755271970847187,\n",
              " 0.7619382679792622,\n",
              " 0.7679521897234034,\n",
              " 0.7934281984175063,\n",
              " 0.7962432256168916,\n",
              " 0.8182132584296087,\n",
              " 0.8141954594210618,\n",
              " 0.8197231115754002,\n",
              " 0.8206059939300864,\n",
              " 0.8135300642764194,\n",
              " 0.8075417587679694,\n",
              " 0.8198255138198323,\n",
              " 0.7993397806155486,\n",
              " 0.7945414387984147,\n",
              " 0.8059166952599002,\n",
              " 0.8128519237122643,\n",
              " 0.8071194670690618,\n",
              " 0.7683105035314158,\n",
              " 0.7608634519518908,\n",
              " 0.7491043281450346,\n",
              " 0.7388678656018155,\n",
              " 0.7378058576922897,\n",
              " 0.7554381393436513,\n",
              " 0.7581891886521415,\n",
              " 0.7813619932740201,\n",
              " 0.7845608878187761,\n",
              " 0.7829486324285525,\n",
              " 0.7818610082833355,\n",
              " 0.7688478801959351,\n",
              " 0.7875166789177972,\n",
              " 0.8058527173690051,\n",
              " 0.8164474310219035,\n",
              " 0.8156541427938039,\n",
              " 0.8138627618487406,\n",
              " 0.8260697308918626,\n",
              " 0.8300235520095144,\n",
              " 0.8326082838810105,\n",
              " 0.8350138274993337,\n",
              " 0.8298444264546747,\n",
              " 0.8473103906690422,\n",
              " 0.8419490559516978,\n",
              " 0.8396842135346774,\n",
              " 0.8418339082877532,\n",
              " 0.8367540386713476,\n",
              " 0.8379056407074597,\n",
              " 0.8299212124634154,\n",
              " 0.8120202111306277,\n",
              " 0.8045347978958989,\n",
              " 0.7950276456898844,\n",
              " 0.7960512919442062,\n",
              " 0.7731088453485497,\n",
              " 0.7932234566269754,\n",
              " 0.7728912954401732,\n",
              " 0.772558597867852,\n",
              " 0.7733263325585934,\n",
              " 0.7717013317488571,\n",
              " 0.7774721500472636,\n",
              " 0.7826031267383856,\n",
              " 0.7948868817902485,\n",
              " 0.8013614568885011,\n",
              " 0.7978810972428064,\n",
              " 0.7699994822320472,\n",
              " 0.765892151795247,\n",
              " 0.7414141731197746,\n",
              " 0.7465580206270754,\n",
              " 0.7495010036082509,\n",
              " 0.739494836392921,\n",
              " 0.7410814755474534,\n",
              " 0.7345941550296882,\n",
              " 0.7377546252209072,\n",
              " 0.7436533993011039,\n",
              " 0.7483109772186018,\n",
              " 0.7384968063742904,\n",
              " 0.7403521652102488,\n",
              " 0.7353362734847383,\n",
              " 0.7625140689973183,\n",
              " 0.765277926423654,\n",
              " 0.7557963904533308,\n",
              " 0.7695260834584231,\n",
              " 0.7569864168429798,\n",
              " 0.7649708450870241,\n",
              " 0.7656234321138209,\n",
              " 0.7645613615059621,\n",
              " 0.7677858722864093,\n",
              " 0.7762181457667193,\n",
              " 0.7703706041579053,\n",
              " 0.7794426565471666,\n",
              " 0.7743499788129153,\n",
              " 0.7805686423475875]"
            ]
          },
          "metadata": {},
          "execution_count": 60
        }
      ]
    },
    {
      "cell_type": "code",
      "source": [
        "# Assuming you have already imported the required libraries and defined the model.\n",
        "\n",
        "from numpy import array\n",
        "\n",
        "lst_output = []\n",
        "n_steps = 100\n",
        "i = 0\n",
        "\n",
        "while i < 30:\n",
        "    if len(temp_input) > 100:\n",
        "        # Prepare the input data for prediction\n",
        "        x_input = np.array(temp_input[-n_steps:])  # Take the last 100 elements\n",
        "        print(\"{} day input {}\".format(i, x_input))\n",
        "        x_input = x_input.reshape((1, n_steps, 1))\n",
        "        yhat = model.predict(x_input, verbose=0)\n",
        "        print(\"{} day output {}\".format(i, yhat[0, 0]))\n",
        "        temp_input.extend(yhat[0].tolist())\n",
        "        lst_output.extend(yhat.tolist())\n",
        "    else:\n",
        "        x_input = np.array(temp_input)\n",
        "        x_input = x_input.reshape((1, n_steps, 1))\n",
        "        yhat = model.predict(x_input, verbose=0)\n",
        "        print(\"{} day output {}\".format(i, yhat[0, 0]))\n",
        "        temp_input.extend(yhat[0].tolist())\n",
        "        lst_output.extend(yhat.tolist())\n",
        "\n",
        "    i += 1\n",
        "\n",
        "print(lst_output)\n"
      ],
      "metadata": {
        "colab": {
          "base_uri": "https://localhost:8080/"
        },
        "id": "yLihp9Y8j7Sd",
        "outputId": "8d46a175-8d6d-4444-912c-7cc97b9d674e"
      },
      "execution_count": null,
      "outputs": [
        {
          "output_type": "stream",
          "name": "stdout",
          "text": [
            "0 day input [0.78669864 0.78684551 0.78699279 0.78713977 0.78728694 0.7874344\n",
            " 0.78758174 0.78772914 0.78787673 0.78802443 0.78817207 0.78831995\n",
            " 0.78846788 0.78861612 0.7887643  0.78891248 0.78906107 0.78920943\n",
            " 0.78935802 0.78950655 0.78965533 0.78980404 0.78995293 0.79010171\n",
            " 0.7902506  0.79039937 0.79054821 0.79069698 0.79084587 0.79099452\n",
            " 0.79114354 0.79129231 0.79144132 0.79158998 0.79173881 0.79188752\n",
            " 0.79203641 0.79218501 0.79233372 0.7924825  0.79263079 0.79277945\n",
            " 0.79292798 0.79307652 0.79322487 0.79337353 0.79352182 0.79367018\n",
            " 0.79381853 0.79396695 0.79411536 0.79426342 0.79441172 0.79455984\n",
            " 0.79470831 0.79485613 0.79500437 0.79515266 0.79530066 0.79544878\n",
            " 0.79559702 0.79574502 0.79589307 0.79604107 0.79618907 0.79633689\n",
            " 0.79648507 0.79663289 0.79678077 0.7969287  0.79707634 0.79722428\n",
            " 0.79737204 0.79751962 0.79766738 0.79781485 0.79796237 0.79810983\n",
            " 0.79825729 0.79840481 0.79855233 0.79869968 0.79884714 0.79899436\n",
            " 0.79914188 0.79928917 0.79943645 0.79958373 0.79973096 0.79987782\n",
            " 0.80002481 0.80017191 0.80031854 0.80046546 0.80061233 0.80075908\n",
            " 0.80090588 0.80105263 0.80119944 0.801346  ]\n",
            "0 day output 0.8014925718307495\n",
            "1 day input [0.78684551 0.78699279 0.78713977 0.78728694 0.7874344  0.78758174\n",
            " 0.78772914 0.78787673 0.78802443 0.78817207 0.78831995 0.78846788\n",
            " 0.78861612 0.7887643  0.78891248 0.78906107 0.78920943 0.78935802\n",
            " 0.78950655 0.78965533 0.78980404 0.78995293 0.79010171 0.7902506\n",
            " 0.79039937 0.79054821 0.79069698 0.79084587 0.79099452 0.79114354\n",
            " 0.79129231 0.79144132 0.79158998 0.79173881 0.79188752 0.79203641\n",
            " 0.79218501 0.79233372 0.7924825  0.79263079 0.79277945 0.79292798\n",
            " 0.79307652 0.79322487 0.79337353 0.79352182 0.79367018 0.79381853\n",
            " 0.79396695 0.79411536 0.79426342 0.79441172 0.79455984 0.79470831\n",
            " 0.79485613 0.79500437 0.79515266 0.79530066 0.79544878 0.79559702\n",
            " 0.79574502 0.79589307 0.79604107 0.79618907 0.79633689 0.79648507\n",
            " 0.79663289 0.79678077 0.7969287  0.79707634 0.79722428 0.79737204\n",
            " 0.79751962 0.79766738 0.79781485 0.79796237 0.79810983 0.79825729\n",
            " 0.79840481 0.79855233 0.79869968 0.79884714 0.79899436 0.79914188\n",
            " 0.79928917 0.79943645 0.79958373 0.79973096 0.79987782 0.80002481\n",
            " 0.80017191 0.80031854 0.80046546 0.80061233 0.80075908 0.80090588\n",
            " 0.80105263 0.80119944 0.801346   0.80149257]\n",
            "1 day output 0.8016390204429626\n",
            "2 day input [0.78699279 0.78713977 0.78728694 0.7874344  0.78758174 0.78772914\n",
            " 0.78787673 0.78802443 0.78817207 0.78831995 0.78846788 0.78861612\n",
            " 0.7887643  0.78891248 0.78906107 0.78920943 0.78935802 0.78950655\n",
            " 0.78965533 0.78980404 0.78995293 0.79010171 0.7902506  0.79039937\n",
            " 0.79054821 0.79069698 0.79084587 0.79099452 0.79114354 0.79129231\n",
            " 0.79144132 0.79158998 0.79173881 0.79188752 0.79203641 0.79218501\n",
            " 0.79233372 0.7924825  0.79263079 0.79277945 0.79292798 0.79307652\n",
            " 0.79322487 0.79337353 0.79352182 0.79367018 0.79381853 0.79396695\n",
            " 0.79411536 0.79426342 0.79441172 0.79455984 0.79470831 0.79485613\n",
            " 0.79500437 0.79515266 0.79530066 0.79544878 0.79559702 0.79574502\n",
            " 0.79589307 0.79604107 0.79618907 0.79633689 0.79648507 0.79663289\n",
            " 0.79678077 0.7969287  0.79707634 0.79722428 0.79737204 0.79751962\n",
            " 0.79766738 0.79781485 0.79796237 0.79810983 0.79825729 0.79840481\n",
            " 0.79855233 0.79869968 0.79884714 0.79899436 0.79914188 0.79928917\n",
            " 0.79943645 0.79958373 0.79973096 0.79987782 0.80002481 0.80017191\n",
            " 0.80031854 0.80046546 0.80061233 0.80075908 0.80090588 0.80105263\n",
            " 0.80119944 0.801346   0.80149257 0.80163902]\n",
            "2 day output 0.801785409450531\n",
            "3 day input [0.78713977 0.78728694 0.7874344  0.78758174 0.78772914 0.78787673\n",
            " 0.78802443 0.78817207 0.78831995 0.78846788 0.78861612 0.7887643\n",
            " 0.78891248 0.78906107 0.78920943 0.78935802 0.78950655 0.78965533\n",
            " 0.78980404 0.78995293 0.79010171 0.7902506  0.79039937 0.79054821\n",
            " 0.79069698 0.79084587 0.79099452 0.79114354 0.79129231 0.79144132\n",
            " 0.79158998 0.79173881 0.79188752 0.79203641 0.79218501 0.79233372\n",
            " 0.7924825  0.79263079 0.79277945 0.79292798 0.79307652 0.79322487\n",
            " 0.79337353 0.79352182 0.79367018 0.79381853 0.79396695 0.79411536\n",
            " 0.79426342 0.79441172 0.79455984 0.79470831 0.79485613 0.79500437\n",
            " 0.79515266 0.79530066 0.79544878 0.79559702 0.79574502 0.79589307\n",
            " 0.79604107 0.79618907 0.79633689 0.79648507 0.79663289 0.79678077\n",
            " 0.7969287  0.79707634 0.79722428 0.79737204 0.79751962 0.79766738\n",
            " 0.79781485 0.79796237 0.79810983 0.79825729 0.79840481 0.79855233\n",
            " 0.79869968 0.79884714 0.79899436 0.79914188 0.79928917 0.79943645\n",
            " 0.79958373 0.79973096 0.79987782 0.80002481 0.80017191 0.80031854\n",
            " 0.80046546 0.80061233 0.80075908 0.80090588 0.80105263 0.80119944\n",
            " 0.801346   0.80149257 0.80163902 0.80178541]\n",
            "3 day output 0.8019318580627441\n",
            "4 day input [0.78728694 0.7874344  0.78758174 0.78772914 0.78787673 0.78802443\n",
            " 0.78817207 0.78831995 0.78846788 0.78861612 0.7887643  0.78891248\n",
            " 0.78906107 0.78920943 0.78935802 0.78950655 0.78965533 0.78980404\n",
            " 0.78995293 0.79010171 0.7902506  0.79039937 0.79054821 0.79069698\n",
            " 0.79084587 0.79099452 0.79114354 0.79129231 0.79144132 0.79158998\n",
            " 0.79173881 0.79188752 0.79203641 0.79218501 0.79233372 0.7924825\n",
            " 0.79263079 0.79277945 0.79292798 0.79307652 0.79322487 0.79337353\n",
            " 0.79352182 0.79367018 0.79381853 0.79396695 0.79411536 0.79426342\n",
            " 0.79441172 0.79455984 0.79470831 0.79485613 0.79500437 0.79515266\n",
            " 0.79530066 0.79544878 0.79559702 0.79574502 0.79589307 0.79604107\n",
            " 0.79618907 0.79633689 0.79648507 0.79663289 0.79678077 0.7969287\n",
            " 0.79707634 0.79722428 0.79737204 0.79751962 0.79766738 0.79781485\n",
            " 0.79796237 0.79810983 0.79825729 0.79840481 0.79855233 0.79869968\n",
            " 0.79884714 0.79899436 0.79914188 0.79928917 0.79943645 0.79958373\n",
            " 0.79973096 0.79987782 0.80002481 0.80017191 0.80031854 0.80046546\n",
            " 0.80061233 0.80075908 0.80090588 0.80105263 0.80119944 0.801346\n",
            " 0.80149257 0.80163902 0.80178541 0.80193186]\n",
            "4 day output 0.8020781874656677\n",
            "5 day input [0.7874344  0.78758174 0.78772914 0.78787673 0.78802443 0.78817207\n",
            " 0.78831995 0.78846788 0.78861612 0.7887643  0.78891248 0.78906107\n",
            " 0.78920943 0.78935802 0.78950655 0.78965533 0.78980404 0.78995293\n",
            " 0.79010171 0.7902506  0.79039937 0.79054821 0.79069698 0.79084587\n",
            " 0.79099452 0.79114354 0.79129231 0.79144132 0.79158998 0.79173881\n",
            " 0.79188752 0.79203641 0.79218501 0.79233372 0.7924825  0.79263079\n",
            " 0.79277945 0.79292798 0.79307652 0.79322487 0.79337353 0.79352182\n",
            " 0.79367018 0.79381853 0.79396695 0.79411536 0.79426342 0.79441172\n",
            " 0.79455984 0.79470831 0.79485613 0.79500437 0.79515266 0.79530066\n",
            " 0.79544878 0.79559702 0.79574502 0.79589307 0.79604107 0.79618907\n",
            " 0.79633689 0.79648507 0.79663289 0.79678077 0.7969287  0.79707634\n",
            " 0.79722428 0.79737204 0.79751962 0.79766738 0.79781485 0.79796237\n",
            " 0.79810983 0.79825729 0.79840481 0.79855233 0.79869968 0.79884714\n",
            " 0.79899436 0.79914188 0.79928917 0.79943645 0.79958373 0.79973096\n",
            " 0.79987782 0.80002481 0.80017191 0.80031854 0.80046546 0.80061233\n",
            " 0.80075908 0.80090588 0.80105263 0.80119944 0.801346   0.80149257\n",
            " 0.80163902 0.80178541 0.80193186 0.80207819]\n",
            "5 day output 0.8022245764732361\n",
            "6 day input [0.78758174 0.78772914 0.78787673 0.78802443 0.78817207 0.78831995\n",
            " 0.78846788 0.78861612 0.7887643  0.78891248 0.78906107 0.78920943\n",
            " 0.78935802 0.78950655 0.78965533 0.78980404 0.78995293 0.79010171\n",
            " 0.7902506  0.79039937 0.79054821 0.79069698 0.79084587 0.79099452\n",
            " 0.79114354 0.79129231 0.79144132 0.79158998 0.79173881 0.79188752\n",
            " 0.79203641 0.79218501 0.79233372 0.7924825  0.79263079 0.79277945\n",
            " 0.79292798 0.79307652 0.79322487 0.79337353 0.79352182 0.79367018\n",
            " 0.79381853 0.79396695 0.79411536 0.79426342 0.79441172 0.79455984\n",
            " 0.79470831 0.79485613 0.79500437 0.79515266 0.79530066 0.79544878\n",
            " 0.79559702 0.79574502 0.79589307 0.79604107 0.79618907 0.79633689\n",
            " 0.79648507 0.79663289 0.79678077 0.7969287  0.79707634 0.79722428\n",
            " 0.79737204 0.79751962 0.79766738 0.79781485 0.79796237 0.79810983\n",
            " 0.79825729 0.79840481 0.79855233 0.79869968 0.79884714 0.79899436\n",
            " 0.79914188 0.79928917 0.79943645 0.79958373 0.79973096 0.79987782\n",
            " 0.80002481 0.80017191 0.80031854 0.80046546 0.80061233 0.80075908\n",
            " 0.80090588 0.80105263 0.80119944 0.801346   0.80149257 0.80163902\n",
            " 0.80178541 0.80193186 0.80207819 0.80222458]\n",
            "6 day output 0.8023708462715149\n",
            "7 day input [0.78772914 0.78787673 0.78802443 0.78817207 0.78831995 0.78846788\n",
            " 0.78861612 0.7887643  0.78891248 0.78906107 0.78920943 0.78935802\n",
            " 0.78950655 0.78965533 0.78980404 0.78995293 0.79010171 0.7902506\n",
            " 0.79039937 0.79054821 0.79069698 0.79084587 0.79099452 0.79114354\n",
            " 0.79129231 0.79144132 0.79158998 0.79173881 0.79188752 0.79203641\n",
            " 0.79218501 0.79233372 0.7924825  0.79263079 0.79277945 0.79292798\n",
            " 0.79307652 0.79322487 0.79337353 0.79352182 0.79367018 0.79381853\n",
            " 0.79396695 0.79411536 0.79426342 0.79441172 0.79455984 0.79470831\n",
            " 0.79485613 0.79500437 0.79515266 0.79530066 0.79544878 0.79559702\n",
            " 0.79574502 0.79589307 0.79604107 0.79618907 0.79633689 0.79648507\n",
            " 0.79663289 0.79678077 0.7969287  0.79707634 0.79722428 0.79737204\n",
            " 0.79751962 0.79766738 0.79781485 0.79796237 0.79810983 0.79825729\n",
            " 0.79840481 0.79855233 0.79869968 0.79884714 0.79899436 0.79914188\n",
            " 0.79928917 0.79943645 0.79958373 0.79973096 0.79987782 0.80002481\n",
            " 0.80017191 0.80031854 0.80046546 0.80061233 0.80075908 0.80090588\n",
            " 0.80105263 0.80119944 0.801346   0.80149257 0.80163902 0.80178541\n",
            " 0.80193186 0.80207819 0.80222458 0.80237085]\n",
            "7 day output 0.8025170564651489\n",
            "8 day input [0.78787673 0.78802443 0.78817207 0.78831995 0.78846788 0.78861612\n",
            " 0.7887643  0.78891248 0.78906107 0.78920943 0.78935802 0.78950655\n",
            " 0.78965533 0.78980404 0.78995293 0.79010171 0.7902506  0.79039937\n",
            " 0.79054821 0.79069698 0.79084587 0.79099452 0.79114354 0.79129231\n",
            " 0.79144132 0.79158998 0.79173881 0.79188752 0.79203641 0.79218501\n",
            " 0.79233372 0.7924825  0.79263079 0.79277945 0.79292798 0.79307652\n",
            " 0.79322487 0.79337353 0.79352182 0.79367018 0.79381853 0.79396695\n",
            " 0.79411536 0.79426342 0.79441172 0.79455984 0.79470831 0.79485613\n",
            " 0.79500437 0.79515266 0.79530066 0.79544878 0.79559702 0.79574502\n",
            " 0.79589307 0.79604107 0.79618907 0.79633689 0.79648507 0.79663289\n",
            " 0.79678077 0.7969287  0.79707634 0.79722428 0.79737204 0.79751962\n",
            " 0.79766738 0.79781485 0.79796237 0.79810983 0.79825729 0.79840481\n",
            " 0.79855233 0.79869968 0.79884714 0.79899436 0.79914188 0.79928917\n",
            " 0.79943645 0.79958373 0.79973096 0.79987782 0.80002481 0.80017191\n",
            " 0.80031854 0.80046546 0.80061233 0.80075908 0.80090588 0.80105263\n",
            " 0.80119944 0.801346   0.80149257 0.80163902 0.80178541 0.80193186\n",
            " 0.80207819 0.80222458 0.80237085 0.80251706]\n",
            "8 day output 0.802663266658783\n",
            "9 day input [0.78802443 0.78817207 0.78831995 0.78846788 0.78861612 0.7887643\n",
            " 0.78891248 0.78906107 0.78920943 0.78935802 0.78950655 0.78965533\n",
            " 0.78980404 0.78995293 0.79010171 0.7902506  0.79039937 0.79054821\n",
            " 0.79069698 0.79084587 0.79099452 0.79114354 0.79129231 0.79144132\n",
            " 0.79158998 0.79173881 0.79188752 0.79203641 0.79218501 0.79233372\n",
            " 0.7924825  0.79263079 0.79277945 0.79292798 0.79307652 0.79322487\n",
            " 0.79337353 0.79352182 0.79367018 0.79381853 0.79396695 0.79411536\n",
            " 0.79426342 0.79441172 0.79455984 0.79470831 0.79485613 0.79500437\n",
            " 0.79515266 0.79530066 0.79544878 0.79559702 0.79574502 0.79589307\n",
            " 0.79604107 0.79618907 0.79633689 0.79648507 0.79663289 0.79678077\n",
            " 0.7969287  0.79707634 0.79722428 0.79737204 0.79751962 0.79766738\n",
            " 0.79781485 0.79796237 0.79810983 0.79825729 0.79840481 0.79855233\n",
            " 0.79869968 0.79884714 0.79899436 0.79914188 0.79928917 0.79943645\n",
            " 0.79958373 0.79973096 0.79987782 0.80002481 0.80017191 0.80031854\n",
            " 0.80046546 0.80061233 0.80075908 0.80090588 0.80105263 0.80119944\n",
            " 0.801346   0.80149257 0.80163902 0.80178541 0.80193186 0.80207819\n",
            " 0.80222458 0.80237085 0.80251706 0.80266327]\n",
            "9 day output 0.8028092980384827\n",
            "10 day input [0.78817207 0.78831995 0.78846788 0.78861612 0.7887643  0.78891248\n",
            " 0.78906107 0.78920943 0.78935802 0.78950655 0.78965533 0.78980404\n",
            " 0.78995293 0.79010171 0.7902506  0.79039937 0.79054821 0.79069698\n",
            " 0.79084587 0.79099452 0.79114354 0.79129231 0.79144132 0.79158998\n",
            " 0.79173881 0.79188752 0.79203641 0.79218501 0.79233372 0.7924825\n",
            " 0.79263079 0.79277945 0.79292798 0.79307652 0.79322487 0.79337353\n",
            " 0.79352182 0.79367018 0.79381853 0.79396695 0.79411536 0.79426342\n",
            " 0.79441172 0.79455984 0.79470831 0.79485613 0.79500437 0.79515266\n",
            " 0.79530066 0.79544878 0.79559702 0.79574502 0.79589307 0.79604107\n",
            " 0.79618907 0.79633689 0.79648507 0.79663289 0.79678077 0.7969287\n",
            " 0.79707634 0.79722428 0.79737204 0.79751962 0.79766738 0.79781485\n",
            " 0.79796237 0.79810983 0.79825729 0.79840481 0.79855233 0.79869968\n",
            " 0.79884714 0.79899436 0.79914188 0.79928917 0.79943645 0.79958373\n",
            " 0.79973096 0.79987782 0.80002481 0.80017191 0.80031854 0.80046546\n",
            " 0.80061233 0.80075908 0.80090588 0.80105263 0.80119944 0.801346\n",
            " 0.80149257 0.80163902 0.80178541 0.80193186 0.80207819 0.80222458\n",
            " 0.80237085 0.80251706 0.80266327 0.8028093 ]\n",
            "10 day output 0.8029553890228271\n",
            "11 day input [0.78831995 0.78846788 0.78861612 0.7887643  0.78891248 0.78906107\n",
            " 0.78920943 0.78935802 0.78950655 0.78965533 0.78980404 0.78995293\n",
            " 0.79010171 0.7902506  0.79039937 0.79054821 0.79069698 0.79084587\n",
            " 0.79099452 0.79114354 0.79129231 0.79144132 0.79158998 0.79173881\n",
            " 0.79188752 0.79203641 0.79218501 0.79233372 0.7924825  0.79263079\n",
            " 0.79277945 0.79292798 0.79307652 0.79322487 0.79337353 0.79352182\n",
            " 0.79367018 0.79381853 0.79396695 0.79411536 0.79426342 0.79441172\n",
            " 0.79455984 0.79470831 0.79485613 0.79500437 0.79515266 0.79530066\n",
            " 0.79544878 0.79559702 0.79574502 0.79589307 0.79604107 0.79618907\n",
            " 0.79633689 0.79648507 0.79663289 0.79678077 0.7969287  0.79707634\n",
            " 0.79722428 0.79737204 0.79751962 0.79766738 0.79781485 0.79796237\n",
            " 0.79810983 0.79825729 0.79840481 0.79855233 0.79869968 0.79884714\n",
            " 0.79899436 0.79914188 0.79928917 0.79943645 0.79958373 0.79973096\n",
            " 0.79987782 0.80002481 0.80017191 0.80031854 0.80046546 0.80061233\n",
            " 0.80075908 0.80090588 0.80105263 0.80119944 0.801346   0.80149257\n",
            " 0.80163902 0.80178541 0.80193186 0.80207819 0.80222458 0.80237085\n",
            " 0.80251706 0.80266327 0.8028093  0.80295539]\n",
            "11 day output 0.8031013607978821\n",
            "12 day input [0.78846788 0.78861612 0.7887643  0.78891248 0.78906107 0.78920943\n",
            " 0.78935802 0.78950655 0.78965533 0.78980404 0.78995293 0.79010171\n",
            " 0.7902506  0.79039937 0.79054821 0.79069698 0.79084587 0.79099452\n",
            " 0.79114354 0.79129231 0.79144132 0.79158998 0.79173881 0.79188752\n",
            " 0.79203641 0.79218501 0.79233372 0.7924825  0.79263079 0.79277945\n",
            " 0.79292798 0.79307652 0.79322487 0.79337353 0.79352182 0.79367018\n",
            " 0.79381853 0.79396695 0.79411536 0.79426342 0.79441172 0.79455984\n",
            " 0.79470831 0.79485613 0.79500437 0.79515266 0.79530066 0.79544878\n",
            " 0.79559702 0.79574502 0.79589307 0.79604107 0.79618907 0.79633689\n",
            " 0.79648507 0.79663289 0.79678077 0.7969287  0.79707634 0.79722428\n",
            " 0.79737204 0.79751962 0.79766738 0.79781485 0.79796237 0.79810983\n",
            " 0.79825729 0.79840481 0.79855233 0.79869968 0.79884714 0.79899436\n",
            " 0.79914188 0.79928917 0.79943645 0.79958373 0.79973096 0.79987782\n",
            " 0.80002481 0.80017191 0.80031854 0.80046546 0.80061233 0.80075908\n",
            " 0.80090588 0.80105263 0.80119944 0.801346   0.80149257 0.80163902\n",
            " 0.80178541 0.80193186 0.80207819 0.80222458 0.80237085 0.80251706\n",
            " 0.80266327 0.8028093  0.80295539 0.80310136]\n",
            "12 day output 0.8032473921775818\n",
            "13 day input [0.78861612 0.7887643  0.78891248 0.78906107 0.78920943 0.78935802\n",
            " 0.78950655 0.78965533 0.78980404 0.78995293 0.79010171 0.7902506\n",
            " 0.79039937 0.79054821 0.79069698 0.79084587 0.79099452 0.79114354\n",
            " 0.79129231 0.79144132 0.79158998 0.79173881 0.79188752 0.79203641\n",
            " 0.79218501 0.79233372 0.7924825  0.79263079 0.79277945 0.79292798\n",
            " 0.79307652 0.79322487 0.79337353 0.79352182 0.79367018 0.79381853\n",
            " 0.79396695 0.79411536 0.79426342 0.79441172 0.79455984 0.79470831\n",
            " 0.79485613 0.79500437 0.79515266 0.79530066 0.79544878 0.79559702\n",
            " 0.79574502 0.79589307 0.79604107 0.79618907 0.79633689 0.79648507\n",
            " 0.79663289 0.79678077 0.7969287  0.79707634 0.79722428 0.79737204\n",
            " 0.79751962 0.79766738 0.79781485 0.79796237 0.79810983 0.79825729\n",
            " 0.79840481 0.79855233 0.79869968 0.79884714 0.79899436 0.79914188\n",
            " 0.79928917 0.79943645 0.79958373 0.79973096 0.79987782 0.80002481\n",
            " 0.80017191 0.80031854 0.80046546 0.80061233 0.80075908 0.80090588\n",
            " 0.80105263 0.80119944 0.801346   0.80149257 0.80163902 0.80178541\n",
            " 0.80193186 0.80207819 0.80222458 0.80237085 0.80251706 0.80266327\n",
            " 0.8028093  0.80295539 0.80310136 0.80324739]\n",
            "13 day output 0.8033933639526367\n",
            "14 day input [0.7887643  0.78891248 0.78906107 0.78920943 0.78935802 0.78950655\n",
            " 0.78965533 0.78980404 0.78995293 0.79010171 0.7902506  0.79039937\n",
            " 0.79054821 0.79069698 0.79084587 0.79099452 0.79114354 0.79129231\n",
            " 0.79144132 0.79158998 0.79173881 0.79188752 0.79203641 0.79218501\n",
            " 0.79233372 0.7924825  0.79263079 0.79277945 0.79292798 0.79307652\n",
            " 0.79322487 0.79337353 0.79352182 0.79367018 0.79381853 0.79396695\n",
            " 0.79411536 0.79426342 0.79441172 0.79455984 0.79470831 0.79485613\n",
            " 0.79500437 0.79515266 0.79530066 0.79544878 0.79559702 0.79574502\n",
            " 0.79589307 0.79604107 0.79618907 0.79633689 0.79648507 0.79663289\n",
            " 0.79678077 0.7969287  0.79707634 0.79722428 0.79737204 0.79751962\n",
            " 0.79766738 0.79781485 0.79796237 0.79810983 0.79825729 0.79840481\n",
            " 0.79855233 0.79869968 0.79884714 0.79899436 0.79914188 0.79928917\n",
            " 0.79943645 0.79958373 0.79973096 0.79987782 0.80002481 0.80017191\n",
            " 0.80031854 0.80046546 0.80061233 0.80075908 0.80090588 0.80105263\n",
            " 0.80119944 0.801346   0.80149257 0.80163902 0.80178541 0.80193186\n",
            " 0.80207819 0.80222458 0.80237085 0.80251706 0.80266327 0.8028093\n",
            " 0.80295539 0.80310136 0.80324739 0.80339336]\n",
            "14 day output 0.8035392165184021\n",
            "15 day input [0.78891248 0.78906107 0.78920943 0.78935802 0.78950655 0.78965533\n",
            " 0.78980404 0.78995293 0.79010171 0.7902506  0.79039937 0.79054821\n",
            " 0.79069698 0.79084587 0.79099452 0.79114354 0.79129231 0.79144132\n",
            " 0.79158998 0.79173881 0.79188752 0.79203641 0.79218501 0.79233372\n",
            " 0.7924825  0.79263079 0.79277945 0.79292798 0.79307652 0.79322487\n",
            " 0.79337353 0.79352182 0.79367018 0.79381853 0.79396695 0.79411536\n",
            " 0.79426342 0.79441172 0.79455984 0.79470831 0.79485613 0.79500437\n",
            " 0.79515266 0.79530066 0.79544878 0.79559702 0.79574502 0.79589307\n",
            " 0.79604107 0.79618907 0.79633689 0.79648507 0.79663289 0.79678077\n",
            " 0.7969287  0.79707634 0.79722428 0.79737204 0.79751962 0.79766738\n",
            " 0.79781485 0.79796237 0.79810983 0.79825729 0.79840481 0.79855233\n",
            " 0.79869968 0.79884714 0.79899436 0.79914188 0.79928917 0.79943645\n",
            " 0.79958373 0.79973096 0.79987782 0.80002481 0.80017191 0.80031854\n",
            " 0.80046546 0.80061233 0.80075908 0.80090588 0.80105263 0.80119944\n",
            " 0.801346   0.80149257 0.80163902 0.80178541 0.80193186 0.80207819\n",
            " 0.80222458 0.80237085 0.80251706 0.80266327 0.8028093  0.80295539\n",
            " 0.80310136 0.80324739 0.80339336 0.80353922]\n",
            "15 day output 0.8036848902702332\n",
            "16 day input [0.78906107 0.78920943 0.78935802 0.78950655 0.78965533 0.78980404\n",
            " 0.78995293 0.79010171 0.7902506  0.79039937 0.79054821 0.79069698\n",
            " 0.79084587 0.79099452 0.79114354 0.79129231 0.79144132 0.79158998\n",
            " 0.79173881 0.79188752 0.79203641 0.79218501 0.79233372 0.7924825\n",
            " 0.79263079 0.79277945 0.79292798 0.79307652 0.79322487 0.79337353\n",
            " 0.79352182 0.79367018 0.79381853 0.79396695 0.79411536 0.79426342\n",
            " 0.79441172 0.79455984 0.79470831 0.79485613 0.79500437 0.79515266\n",
            " 0.79530066 0.79544878 0.79559702 0.79574502 0.79589307 0.79604107\n",
            " 0.79618907 0.79633689 0.79648507 0.79663289 0.79678077 0.7969287\n",
            " 0.79707634 0.79722428 0.79737204 0.79751962 0.79766738 0.79781485\n",
            " 0.79796237 0.79810983 0.79825729 0.79840481 0.79855233 0.79869968\n",
            " 0.79884714 0.79899436 0.79914188 0.79928917 0.79943645 0.79958373\n",
            " 0.79973096 0.79987782 0.80002481 0.80017191 0.80031854 0.80046546\n",
            " 0.80061233 0.80075908 0.80090588 0.80105263 0.80119944 0.801346\n",
            " 0.80149257 0.80163902 0.80178541 0.80193186 0.80207819 0.80222458\n",
            " 0.80237085 0.80251706 0.80266327 0.8028093  0.80295539 0.80310136\n",
            " 0.80324739 0.80339336 0.80353922 0.80368489]\n",
            "16 day output 0.8038306832313538\n",
            "17 day input [0.78920943 0.78935802 0.78950655 0.78965533 0.78980404 0.78995293\n",
            " 0.79010171 0.7902506  0.79039937 0.79054821 0.79069698 0.79084587\n",
            " 0.79099452 0.79114354 0.79129231 0.79144132 0.79158998 0.79173881\n",
            " 0.79188752 0.79203641 0.79218501 0.79233372 0.7924825  0.79263079\n",
            " 0.79277945 0.79292798 0.79307652 0.79322487 0.79337353 0.79352182\n",
            " 0.79367018 0.79381853 0.79396695 0.79411536 0.79426342 0.79441172\n",
            " 0.79455984 0.79470831 0.79485613 0.79500437 0.79515266 0.79530066\n",
            " 0.79544878 0.79559702 0.79574502 0.79589307 0.79604107 0.79618907\n",
            " 0.79633689 0.79648507 0.79663289 0.79678077 0.7969287  0.79707634\n",
            " 0.79722428 0.79737204 0.79751962 0.79766738 0.79781485 0.79796237\n",
            " 0.79810983 0.79825729 0.79840481 0.79855233 0.79869968 0.79884714\n",
            " 0.79899436 0.79914188 0.79928917 0.79943645 0.79958373 0.79973096\n",
            " 0.79987782 0.80002481 0.80017191 0.80031854 0.80046546 0.80061233\n",
            " 0.80075908 0.80090588 0.80105263 0.80119944 0.801346   0.80149257\n",
            " 0.80163902 0.80178541 0.80193186 0.80207819 0.80222458 0.80237085\n",
            " 0.80251706 0.80266327 0.8028093  0.80295539 0.80310136 0.80324739\n",
            " 0.80339336 0.80353922 0.80368489 0.80383068]\n",
            "17 day output 0.80397629737854\n",
            "18 day input [0.78935802 0.78950655 0.78965533 0.78980404 0.78995293 0.79010171\n",
            " 0.7902506  0.79039937 0.79054821 0.79069698 0.79084587 0.79099452\n",
            " 0.79114354 0.79129231 0.79144132 0.79158998 0.79173881 0.79188752\n",
            " 0.79203641 0.79218501 0.79233372 0.7924825  0.79263079 0.79277945\n",
            " 0.79292798 0.79307652 0.79322487 0.79337353 0.79352182 0.79367018\n",
            " 0.79381853 0.79396695 0.79411536 0.79426342 0.79441172 0.79455984\n",
            " 0.79470831 0.79485613 0.79500437 0.79515266 0.79530066 0.79544878\n",
            " 0.79559702 0.79574502 0.79589307 0.79604107 0.79618907 0.79633689\n",
            " 0.79648507 0.79663289 0.79678077 0.7969287  0.79707634 0.79722428\n",
            " 0.79737204 0.79751962 0.79766738 0.79781485 0.79796237 0.79810983\n",
            " 0.79825729 0.79840481 0.79855233 0.79869968 0.79884714 0.79899436\n",
            " 0.79914188 0.79928917 0.79943645 0.79958373 0.79973096 0.79987782\n",
            " 0.80002481 0.80017191 0.80031854 0.80046546 0.80061233 0.80075908\n",
            " 0.80090588 0.80105263 0.80119944 0.801346   0.80149257 0.80163902\n",
            " 0.80178541 0.80193186 0.80207819 0.80222458 0.80237085 0.80251706\n",
            " 0.80266327 0.8028093  0.80295539 0.80310136 0.80324739 0.80339336\n",
            " 0.80353922 0.80368489 0.80383068 0.8039763 ]\n",
            "18 day output 0.8041217923164368\n",
            "19 day input [0.78950655 0.78965533 0.78980404 0.78995293 0.79010171 0.7902506\n",
            " 0.79039937 0.79054821 0.79069698 0.79084587 0.79099452 0.79114354\n",
            " 0.79129231 0.79144132 0.79158998 0.79173881 0.79188752 0.79203641\n",
            " 0.79218501 0.79233372 0.7924825  0.79263079 0.79277945 0.79292798\n",
            " 0.79307652 0.79322487 0.79337353 0.79352182 0.79367018 0.79381853\n",
            " 0.79396695 0.79411536 0.79426342 0.79441172 0.79455984 0.79470831\n",
            " 0.79485613 0.79500437 0.79515266 0.79530066 0.79544878 0.79559702\n",
            " 0.79574502 0.79589307 0.79604107 0.79618907 0.79633689 0.79648507\n",
            " 0.79663289 0.79678077 0.7969287  0.79707634 0.79722428 0.79737204\n",
            " 0.79751962 0.79766738 0.79781485 0.79796237 0.79810983 0.79825729\n",
            " 0.79840481 0.79855233 0.79869968 0.79884714 0.79899436 0.79914188\n",
            " 0.79928917 0.79943645 0.79958373 0.79973096 0.79987782 0.80002481\n",
            " 0.80017191 0.80031854 0.80046546 0.80061233 0.80075908 0.80090588\n",
            " 0.80105263 0.80119944 0.801346   0.80149257 0.80163902 0.80178541\n",
            " 0.80193186 0.80207819 0.80222458 0.80237085 0.80251706 0.80266327\n",
            " 0.8028093  0.80295539 0.80310136 0.80324739 0.80339336 0.80353922\n",
            " 0.80368489 0.80383068 0.8039763  0.80412179]\n",
            "19 day output 0.8042675256729126\n",
            "20 day input [0.78965533 0.78980404 0.78995293 0.79010171 0.7902506  0.79039937\n",
            " 0.79054821 0.79069698 0.79084587 0.79099452 0.79114354 0.79129231\n",
            " 0.79144132 0.79158998 0.79173881 0.79188752 0.79203641 0.79218501\n",
            " 0.79233372 0.7924825  0.79263079 0.79277945 0.79292798 0.79307652\n",
            " 0.79322487 0.79337353 0.79352182 0.79367018 0.79381853 0.79396695\n",
            " 0.79411536 0.79426342 0.79441172 0.79455984 0.79470831 0.79485613\n",
            " 0.79500437 0.79515266 0.79530066 0.79544878 0.79559702 0.79574502\n",
            " 0.79589307 0.79604107 0.79618907 0.79633689 0.79648507 0.79663289\n",
            " 0.79678077 0.7969287  0.79707634 0.79722428 0.79737204 0.79751962\n",
            " 0.79766738 0.79781485 0.79796237 0.79810983 0.79825729 0.79840481\n",
            " 0.79855233 0.79869968 0.79884714 0.79899436 0.79914188 0.79928917\n",
            " 0.79943645 0.79958373 0.79973096 0.79987782 0.80002481 0.80017191\n",
            " 0.80031854 0.80046546 0.80061233 0.80075908 0.80090588 0.80105263\n",
            " 0.80119944 0.801346   0.80149257 0.80163902 0.80178541 0.80193186\n",
            " 0.80207819 0.80222458 0.80237085 0.80251706 0.80266327 0.8028093\n",
            " 0.80295539 0.80310136 0.80324739 0.80339336 0.80353922 0.80368489\n",
            " 0.80383068 0.8039763  0.80412179 0.80426753]\n",
            "20 day output 0.8044129610061646\n",
            "21 day input [0.78980404 0.78995293 0.79010171 0.7902506  0.79039937 0.79054821\n",
            " 0.79069698 0.79084587 0.79099452 0.79114354 0.79129231 0.79144132\n",
            " 0.79158998 0.79173881 0.79188752 0.79203641 0.79218501 0.79233372\n",
            " 0.7924825  0.79263079 0.79277945 0.79292798 0.79307652 0.79322487\n",
            " 0.79337353 0.79352182 0.79367018 0.79381853 0.79396695 0.79411536\n",
            " 0.79426342 0.79441172 0.79455984 0.79470831 0.79485613 0.79500437\n",
            " 0.79515266 0.79530066 0.79544878 0.79559702 0.79574502 0.79589307\n",
            " 0.79604107 0.79618907 0.79633689 0.79648507 0.79663289 0.79678077\n",
            " 0.7969287  0.79707634 0.79722428 0.79737204 0.79751962 0.79766738\n",
            " 0.79781485 0.79796237 0.79810983 0.79825729 0.79840481 0.79855233\n",
            " 0.79869968 0.79884714 0.79899436 0.79914188 0.79928917 0.79943645\n",
            " 0.79958373 0.79973096 0.79987782 0.80002481 0.80017191 0.80031854\n",
            " 0.80046546 0.80061233 0.80075908 0.80090588 0.80105263 0.80119944\n",
            " 0.801346   0.80149257 0.80163902 0.80178541 0.80193186 0.80207819\n",
            " 0.80222458 0.80237085 0.80251706 0.80266327 0.8028093  0.80295539\n",
            " 0.80310136 0.80324739 0.80339336 0.80353922 0.80368489 0.80383068\n",
            " 0.8039763  0.80412179 0.80426753 0.80441296]\n",
            "21 day output 0.804558515548706\n",
            "22 day input [0.78995293 0.79010171 0.7902506  0.79039937 0.79054821 0.79069698\n",
            " 0.79084587 0.79099452 0.79114354 0.79129231 0.79144132 0.79158998\n",
            " 0.79173881 0.79188752 0.79203641 0.79218501 0.79233372 0.7924825\n",
            " 0.79263079 0.79277945 0.79292798 0.79307652 0.79322487 0.79337353\n",
            " 0.79352182 0.79367018 0.79381853 0.79396695 0.79411536 0.79426342\n",
            " 0.79441172 0.79455984 0.79470831 0.79485613 0.79500437 0.79515266\n",
            " 0.79530066 0.79544878 0.79559702 0.79574502 0.79589307 0.79604107\n",
            " 0.79618907 0.79633689 0.79648507 0.79663289 0.79678077 0.7969287\n",
            " 0.79707634 0.79722428 0.79737204 0.79751962 0.79766738 0.79781485\n",
            " 0.79796237 0.79810983 0.79825729 0.79840481 0.79855233 0.79869968\n",
            " 0.79884714 0.79899436 0.79914188 0.79928917 0.79943645 0.79958373\n",
            " 0.79973096 0.79987782 0.80002481 0.80017191 0.80031854 0.80046546\n",
            " 0.80061233 0.80075908 0.80090588 0.80105263 0.80119944 0.801346\n",
            " 0.80149257 0.80163902 0.80178541 0.80193186 0.80207819 0.80222458\n",
            " 0.80237085 0.80251706 0.80266327 0.8028093  0.80295539 0.80310136\n",
            " 0.80324739 0.80339336 0.80353922 0.80368489 0.80383068 0.8039763\n",
            " 0.80412179 0.80426753 0.80441296 0.80455852]\n",
            "22 day output 0.8047040104866028\n",
            "23 day input [0.79010171 0.7902506  0.79039937 0.79054821 0.79069698 0.79084587\n",
            " 0.79099452 0.79114354 0.79129231 0.79144132 0.79158998 0.79173881\n",
            " 0.79188752 0.79203641 0.79218501 0.79233372 0.7924825  0.79263079\n",
            " 0.79277945 0.79292798 0.79307652 0.79322487 0.79337353 0.79352182\n",
            " 0.79367018 0.79381853 0.79396695 0.79411536 0.79426342 0.79441172\n",
            " 0.79455984 0.79470831 0.79485613 0.79500437 0.79515266 0.79530066\n",
            " 0.79544878 0.79559702 0.79574502 0.79589307 0.79604107 0.79618907\n",
            " 0.79633689 0.79648507 0.79663289 0.79678077 0.7969287  0.79707634\n",
            " 0.79722428 0.79737204 0.79751962 0.79766738 0.79781485 0.79796237\n",
            " 0.79810983 0.79825729 0.79840481 0.79855233 0.79869968 0.79884714\n",
            " 0.79899436 0.79914188 0.79928917 0.79943645 0.79958373 0.79973096\n",
            " 0.79987782 0.80002481 0.80017191 0.80031854 0.80046546 0.80061233\n",
            " 0.80075908 0.80090588 0.80105263 0.80119944 0.801346   0.80149257\n",
            " 0.80163902 0.80178541 0.80193186 0.80207819 0.80222458 0.80237085\n",
            " 0.80251706 0.80266327 0.8028093  0.80295539 0.80310136 0.80324739\n",
            " 0.80339336 0.80353922 0.80368489 0.80383068 0.8039763  0.80412179\n",
            " 0.80426753 0.80441296 0.80455852 0.80470401]\n",
            "23 day output 0.8048493266105652\n",
            "24 day input [0.7902506  0.79039937 0.79054821 0.79069698 0.79084587 0.79099452\n",
            " 0.79114354 0.79129231 0.79144132 0.79158998 0.79173881 0.79188752\n",
            " 0.79203641 0.79218501 0.79233372 0.7924825  0.79263079 0.79277945\n",
            " 0.79292798 0.79307652 0.79322487 0.79337353 0.79352182 0.79367018\n",
            " 0.79381853 0.79396695 0.79411536 0.79426342 0.79441172 0.79455984\n",
            " 0.79470831 0.79485613 0.79500437 0.79515266 0.79530066 0.79544878\n",
            " 0.79559702 0.79574502 0.79589307 0.79604107 0.79618907 0.79633689\n",
            " 0.79648507 0.79663289 0.79678077 0.7969287  0.79707634 0.79722428\n",
            " 0.79737204 0.79751962 0.79766738 0.79781485 0.79796237 0.79810983\n",
            " 0.79825729 0.79840481 0.79855233 0.79869968 0.79884714 0.79899436\n",
            " 0.79914188 0.79928917 0.79943645 0.79958373 0.79973096 0.79987782\n",
            " 0.80002481 0.80017191 0.80031854 0.80046546 0.80061233 0.80075908\n",
            " 0.80090588 0.80105263 0.80119944 0.801346   0.80149257 0.80163902\n",
            " 0.80178541 0.80193186 0.80207819 0.80222458 0.80237085 0.80251706\n",
            " 0.80266327 0.8028093  0.80295539 0.80310136 0.80324739 0.80339336\n",
            " 0.80353922 0.80368489 0.80383068 0.8039763  0.80412179 0.80426753\n",
            " 0.80441296 0.80455852 0.80470401 0.80484933]\n",
            "24 day output 0.8049947023391724\n",
            "25 day input [0.79039937 0.79054821 0.79069698 0.79084587 0.79099452 0.79114354\n",
            " 0.79129231 0.79144132 0.79158998 0.79173881 0.79188752 0.79203641\n",
            " 0.79218501 0.79233372 0.7924825  0.79263079 0.79277945 0.79292798\n",
            " 0.79307652 0.79322487 0.79337353 0.79352182 0.79367018 0.79381853\n",
            " 0.79396695 0.79411536 0.79426342 0.79441172 0.79455984 0.79470831\n",
            " 0.79485613 0.79500437 0.79515266 0.79530066 0.79544878 0.79559702\n",
            " 0.79574502 0.79589307 0.79604107 0.79618907 0.79633689 0.79648507\n",
            " 0.79663289 0.79678077 0.7969287  0.79707634 0.79722428 0.79737204\n",
            " 0.79751962 0.79766738 0.79781485 0.79796237 0.79810983 0.79825729\n",
            " 0.79840481 0.79855233 0.79869968 0.79884714 0.79899436 0.79914188\n",
            " 0.79928917 0.79943645 0.79958373 0.79973096 0.79987782 0.80002481\n",
            " 0.80017191 0.80031854 0.80046546 0.80061233 0.80075908 0.80090588\n",
            " 0.80105263 0.80119944 0.801346   0.80149257 0.80163902 0.80178541\n",
            " 0.80193186 0.80207819 0.80222458 0.80237085 0.80251706 0.80266327\n",
            " 0.8028093  0.80295539 0.80310136 0.80324739 0.80339336 0.80353922\n",
            " 0.80368489 0.80383068 0.8039763  0.80412179 0.80426753 0.80441296\n",
            " 0.80455852 0.80470401 0.80484933 0.8049947 ]\n",
            "25 day output 0.8051398396492004\n",
            "26 day input [0.79054821 0.79069698 0.79084587 0.79099452 0.79114354 0.79129231\n",
            " 0.79144132 0.79158998 0.79173881 0.79188752 0.79203641 0.79218501\n",
            " 0.79233372 0.7924825  0.79263079 0.79277945 0.79292798 0.79307652\n",
            " 0.79322487 0.79337353 0.79352182 0.79367018 0.79381853 0.79396695\n",
            " 0.79411536 0.79426342 0.79441172 0.79455984 0.79470831 0.79485613\n",
            " 0.79500437 0.79515266 0.79530066 0.79544878 0.79559702 0.79574502\n",
            " 0.79589307 0.79604107 0.79618907 0.79633689 0.79648507 0.79663289\n",
            " 0.79678077 0.7969287  0.79707634 0.79722428 0.79737204 0.79751962\n",
            " 0.79766738 0.79781485 0.79796237 0.79810983 0.79825729 0.79840481\n",
            " 0.79855233 0.79869968 0.79884714 0.79899436 0.79914188 0.79928917\n",
            " 0.79943645 0.79958373 0.79973096 0.79987782 0.80002481 0.80017191\n",
            " 0.80031854 0.80046546 0.80061233 0.80075908 0.80090588 0.80105263\n",
            " 0.80119944 0.801346   0.80149257 0.80163902 0.80178541 0.80193186\n",
            " 0.80207819 0.80222458 0.80237085 0.80251706 0.80266327 0.8028093\n",
            " 0.80295539 0.80310136 0.80324739 0.80339336 0.80353922 0.80368489\n",
            " 0.80383068 0.8039763  0.80412179 0.80426753 0.80441296 0.80455852\n",
            " 0.80470401 0.80484933 0.8049947  0.80513984]\n",
            "26 day output 0.805284857749939\n",
            "27 day input [0.79069698 0.79084587 0.79099452 0.79114354 0.79129231 0.79144132\n",
            " 0.79158998 0.79173881 0.79188752 0.79203641 0.79218501 0.79233372\n",
            " 0.7924825  0.79263079 0.79277945 0.79292798 0.79307652 0.79322487\n",
            " 0.79337353 0.79352182 0.79367018 0.79381853 0.79396695 0.79411536\n",
            " 0.79426342 0.79441172 0.79455984 0.79470831 0.79485613 0.79500437\n",
            " 0.79515266 0.79530066 0.79544878 0.79559702 0.79574502 0.79589307\n",
            " 0.79604107 0.79618907 0.79633689 0.79648507 0.79663289 0.79678077\n",
            " 0.7969287  0.79707634 0.79722428 0.79737204 0.79751962 0.79766738\n",
            " 0.79781485 0.79796237 0.79810983 0.79825729 0.79840481 0.79855233\n",
            " 0.79869968 0.79884714 0.79899436 0.79914188 0.79928917 0.79943645\n",
            " 0.79958373 0.79973096 0.79987782 0.80002481 0.80017191 0.80031854\n",
            " 0.80046546 0.80061233 0.80075908 0.80090588 0.80105263 0.80119944\n",
            " 0.801346   0.80149257 0.80163902 0.80178541 0.80193186 0.80207819\n",
            " 0.80222458 0.80237085 0.80251706 0.80266327 0.8028093  0.80295539\n",
            " 0.80310136 0.80324739 0.80339336 0.80353922 0.80368489 0.80383068\n",
            " 0.8039763  0.80412179 0.80426753 0.80441296 0.80455852 0.80470401\n",
            " 0.80484933 0.8049947  0.80513984 0.80528486]\n",
            "27 day output 0.8054301142692566\n",
            "28 day input [0.79084587 0.79099452 0.79114354 0.79129231 0.79144132 0.79158998\n",
            " 0.79173881 0.79188752 0.79203641 0.79218501 0.79233372 0.7924825\n",
            " 0.79263079 0.79277945 0.79292798 0.79307652 0.79322487 0.79337353\n",
            " 0.79352182 0.79367018 0.79381853 0.79396695 0.79411536 0.79426342\n",
            " 0.79441172 0.79455984 0.79470831 0.79485613 0.79500437 0.79515266\n",
            " 0.79530066 0.79544878 0.79559702 0.79574502 0.79589307 0.79604107\n",
            " 0.79618907 0.79633689 0.79648507 0.79663289 0.79678077 0.7969287\n",
            " 0.79707634 0.79722428 0.79737204 0.79751962 0.79766738 0.79781485\n",
            " 0.79796237 0.79810983 0.79825729 0.79840481 0.79855233 0.79869968\n",
            " 0.79884714 0.79899436 0.79914188 0.79928917 0.79943645 0.79958373\n",
            " 0.79973096 0.79987782 0.80002481 0.80017191 0.80031854 0.80046546\n",
            " 0.80061233 0.80075908 0.80090588 0.80105263 0.80119944 0.801346\n",
            " 0.80149257 0.80163902 0.80178541 0.80193186 0.80207819 0.80222458\n",
            " 0.80237085 0.80251706 0.80266327 0.8028093  0.80295539 0.80310136\n",
            " 0.80324739 0.80339336 0.80353922 0.80368489 0.80383068 0.8039763\n",
            " 0.80412179 0.80426753 0.80441296 0.80455852 0.80470401 0.80484933\n",
            " 0.8049947  0.80513984 0.80528486 0.80543011]\n",
            "28 day output 0.8055751919746399\n",
            "29 day input [0.79099452 0.79114354 0.79129231 0.79144132 0.79158998 0.79173881\n",
            " 0.79188752 0.79203641 0.79218501 0.79233372 0.7924825  0.79263079\n",
            " 0.79277945 0.79292798 0.79307652 0.79322487 0.79337353 0.79352182\n",
            " 0.79367018 0.79381853 0.79396695 0.79411536 0.79426342 0.79441172\n",
            " 0.79455984 0.79470831 0.79485613 0.79500437 0.79515266 0.79530066\n",
            " 0.79544878 0.79559702 0.79574502 0.79589307 0.79604107 0.79618907\n",
            " 0.79633689 0.79648507 0.79663289 0.79678077 0.7969287  0.79707634\n",
            " 0.79722428 0.79737204 0.79751962 0.79766738 0.79781485 0.79796237\n",
            " 0.79810983 0.79825729 0.79840481 0.79855233 0.79869968 0.79884714\n",
            " 0.79899436 0.79914188 0.79928917 0.79943645 0.79958373 0.79973096\n",
            " 0.79987782 0.80002481 0.80017191 0.80031854 0.80046546 0.80061233\n",
            " 0.80075908 0.80090588 0.80105263 0.80119944 0.801346   0.80149257\n",
            " 0.80163902 0.80178541 0.80193186 0.80207819 0.80222458 0.80237085\n",
            " 0.80251706 0.80266327 0.8028093  0.80295539 0.80310136 0.80324739\n",
            " 0.80339336 0.80353922 0.80368489 0.80383068 0.8039763  0.80412179\n",
            " 0.80426753 0.80441296 0.80455852 0.80470401 0.80484933 0.8049947\n",
            " 0.80513984 0.80528486 0.80543011 0.80557519]\n",
            "29 day output 0.8057202100753784\n",
            "[[0.8014925718307495], [0.8016390204429626], [0.801785409450531], [0.8019318580627441], [0.8020781874656677], [0.8022245764732361], [0.8023708462715149], [0.8025170564651489], [0.802663266658783], [0.8028092980384827], [0.8029553890228271], [0.8031013607978821], [0.8032473921775818], [0.8033933639526367], [0.8035392165184021], [0.8036848902702332], [0.8038306832313538], [0.80397629737854], [0.8041217923164368], [0.8042675256729126], [0.8044129610061646], [0.804558515548706], [0.8047040104866028], [0.8048493266105652], [0.8049947023391724], [0.8051398396492004], [0.805284857749939], [0.8054301142692566], [0.8055751919746399], [0.8057202100753784]]\n"
          ]
        }
      ]
    },
    {
      "cell_type": "code",
      "source": [
        "day_new=np.arange(1,101)\n",
        "day_pred=np.arange(101,131)\n"
      ],
      "metadata": {
        "id": "ZIKfG7U5opE7"
      },
      "execution_count": null,
      "outputs": []
    },
    {
      "cell_type": "code",
      "source": [
        "len(data1)"
      ],
      "metadata": {
        "colab": {
          "base_uri": "https://localhost:8080/"
        },
        "id": "TxjX16nfor4k",
        "outputId": "14ce2474-3b4b-4920-b7f3-ec6db067cc80"
      },
      "execution_count": null,
      "outputs": [
        {
          "output_type": "execute_result",
          "data": {
            "text/plain": [
              "4494"
            ]
          },
          "metadata": {},
          "execution_count": 85
        }
      ]
    },
    {
      "cell_type": "code",
      "source": [
        "day_new = np.arange(1, 101)\n",
        "day_pred = np.arange(101, 131)\n",
        "\n",
        "plt.plot(day_new, scaler.inverse_transform(data1[-100:]), label='Actual Close Price')\n",
        "plt.plot(day_pred, scaler.inverse_transform(lst_output), label='Predicted Close Price')\n",
        "plt.xlabel('Time')\n",
        "plt.ylabel('Close Price')\n",
        "plt.legend()\n",
        "plt.show()\n"
      ],
      "metadata": {
        "colab": {
          "base_uri": "https://localhost:8080/",
          "height": 449
        },
        "id": "W-oo58P3ouRz",
        "outputId": "46288b45-24b8-4a80-d4c2-62935f51948a"
      },
      "execution_count": null,
      "outputs": [
        {
          "output_type": "display_data",
          "data": {
            "text/plain": [
              "<Figure size 640x480 with 1 Axes>"
            ],
            "image/png": "[encoded data removed]"
          },
          "metadata": {}
        }
      ]
    },
    {
      "cell_type": "code",
      "source": [
        "data3=data1.tolist()\n",
        "data3.extend(lst_output)\n",
        "plt.plot(data3[1200:])"
      ],
      "metadata": {
        "colab": {
          "base_uri": "https://localhost:8080/",
          "height": 447
        },
        "id": "uA56U6ptp67L",
        "outputId": "e57dcf5b-2ea8-41f7-e908-b7bfd0d79a21"
      },
      "execution_count": null,
      "outputs": [
        {
          "output_type": "execute_result",
          "data": {
            "text/plain": [
              "[<matplotlib.lines.Line2D at 0x7b30923a2f20>]"
            ]
          },
          "metadata": {},
          "execution_count": 87
        },
        {
          "output_type": "display_data",
          "data": {
            "text/plain": [
              "<Figure size 640x480 with 1 Axes>"
            ],
            "image/png": "[encoded data removed]"
          },
          "metadata": {}
        }
      ]
    },
    {
      "cell_type": "code",
      "source": [
        "data3=scaler.inverse_transform(data3).tolist()\n",
        "plt.plot(data3)"
      ],
      "metadata": {
        "colab": {
          "base_uri": "https://localhost:8080/",
          "height": 447
        },
        "id": "ePalBYolp-eZ",
        "outputId": "2ff0b3ef-53b0-4962-d824-3d3ebd328d39"
      },
      "execution_count": null,
      "outputs": [
        {
          "output_type": "execute_result",
          "data": {
            "text/plain": [
              "[<matplotlib.lines.Line2D at 0x7b308a2f16c0>]"
            ]
          },
          "metadata": {},
          "execution_count": 88
        },
        {
          "output_type": "display_data",
          "data": {
            "text/plain": [
              "<Figure size 640x480 with 1 Axes>"
            ],
            "image/png": "[encoded data removed]"
          },
          "metadata": {}
        }
      ]
    }
  ]
}