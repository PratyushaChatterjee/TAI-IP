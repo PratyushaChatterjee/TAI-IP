{
  "nbformat": 4,
  "nbformat_minor": 0,
  "metadata": {
    "colab": {
      "provenance": [],
      "authorship_tag": "ABX9TyORSqgUdmDPRSlQjD8plylF",
      "include_colab_link": true
    },
    "kernelspec": {
      "name": "python3",
      "display_name": "Python 3"
    },
    "language_info": {
      "name": "python"
    }
  },
  "cells": [
    {
      "cell_type": "markdown",
      "metadata": {
        "id": "view-in-github",
        "colab_type": "text"
      },
      "source": [
        "<a href=\"https://colab.research.google.com/github/PratyushaChatterjee/TAI-IP/blob/main/Fruit_Image_Classification.ipynb\" target=\"_parent\"><img src=\"https://colab.research.google.com/assets/colab-badge.svg\" alt=\"Open In Colab\"/></a>"
      ]
    },
    {
      "cell_type": "code",
      "execution_count": null,
      "metadata": {
        "id": "8iINEUv_k5Zh"
      },
      "outputs": [],
      "source": [
        "import numpy as np\n",
        "import pandas as pd\n",
        "import os\n",
        "for dirname, _, filenames in os.walk('/kaggle/input'):\n",
        "    for filename in filenames:\n",
        "        print(os.path.join(dirname, filename))\n",
        "\n"
      ]
    },
    {
      "cell_type": "code",
      "source": [
        "import os\n",
        "import numpy as np\n",
        "from PIL import Image\n",
        "from keras.preprocessing import image\n",
        "from keras.utils import to_categorical\n",
        "from sklearn.model_selection import train_test_split\n",
        "\n",
        "\n",
        "train_dir = '/kaggle/input/fruitimagedataset/train/train'\n",
        "test_dir = '/kaggle/input/fruitimagedataset/test/test'"
      ],
      "metadata": {
        "id": "zo-7hOszk9kN"
      },
      "execution_count": null,
      "outputs": []
    },
    {
      "cell_type": "code",
      "source": [
        "def load_dataset(folder):\n",
        "    images = []\n",
        "    labels = []\n",
        "    class_names = os.listdir(folder)\n",
        "    for class_name in class_names:\n",
        "        class_dir = os.path.join(folder, class_name)\n",
        "        for img_name in os.listdir(class_dir):\n",
        "            img_path = os.path.join(class_dir, img_name)\n",
        "\n",
        "            img = Image.open(img_path).resize((100, 100), resample=Image.BILINEAR)\n",
        "            img_array = np.array(img)\n",
        "            images.append(img_array)\n",
        "            labels.append(class_name)\n",
        "    return np.array(images), np.array(labels)\n",
        "\n",
        "x_train, y_train = load_dataset(train_dir)\n",
        "x_test, y_test = load_dataset(test_dir)\n",
        "\n",
        "\n",
        "x_train = x_train / 255.0\n",
        "x_test = x_test / 255.0"
      ],
      "metadata": {
        "id": "Cl26xQjak-AW"
      },
      "execution_count": null,
      "outputs": []
    },
    {
      "cell_type": "code",
      "source": [
        "unique_labels = np.unique(y_train)\n",
        "label_to_index = {label: index for index, label in enumerate(unique_labels)}\n",
        "y_train = [label_to_index[label] for label in y_train]\n",
        "y_test = [label_to_index[label] for label in y_test]\n",
        "y_train = to_categorical(y_train, num_classes=len(unique_labels))\n",
        "y_test = to_categorical(y_test, num_classes=len(unique_labels))\n",
        "\n",
        "\n",
        "x_train, x_val, y_train, y_val = train_test_split(x_train, y_train, test_size=0.1, random_state=42)"
      ],
      "metadata": {
        "id": "5Fti9d2YlAOh"
      },
      "execution_count": null,
      "outputs": []
    },
    {
      "cell_type": "code",
      "source": [
        "from keras.models import Sequential\n",
        "from keras.layers import Dense\n",
        "\n",
        "model = Sequential()\n",
        "model.add(Dense(128, activation='relu', input_shape=(100,100,3)))\n",
        "model.add(Dense(64, activation='relu'))\n",
        "model.add(Dense(10, activation='softmax'))\n",
        "\n",
        "model.compile(optimizer='adam', loss='categorical_crossentropy', metrics=['accuracy'])\n",
        "\n",
        "model.summary()"
      ],
      "metadata": {
        "id": "U5xBT0BelHPP"
      },
      "execution_count": null,
      "outputs": []
    },
    {
      "cell_type": "code",
      "source": [
        "history = model.fit(x_train, y_train, validation_data=(x_val, y_val), epochs=10, batch_size=32)\n",
        "\n",
        "\n",
        "test_loss, test_acc = model.evaluate(x_test, y_test)\n",
        "print(\"Test accuracy:\", test_acc)"
      ],
      "metadata": {
        "id": "yO4UyoLelJfx"
      },
      "execution_count": null,
      "outputs": []
    }
  ]
}